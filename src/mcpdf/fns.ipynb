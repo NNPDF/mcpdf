{
 "cells": [
  {
   "cell_type": "code",
   "execution_count": null,
   "id": "5e74925c",
   "metadata": {},
   "outputs": [],
   "source": [
    "import json\n",
    "import numpy as np\n",
    "import seaborn as sns\n",
    "import matplotlib.pyplot as plt\n",
    "\n",
    "from inference import pdfs\n",
    "from inference.gps import GP_generator\n",
    "from loader import build_FK_FNS, load_data_FNS"
   ]
  },
  {
   "cell_type": "code",
   "execution_count": null,
   "id": "14f97cd5",
   "metadata": {},
   "outputs": [],
   "source": [
    "# xgrid taken from FK table for BCDMSP (equal to the one for BCDMSD up to small differences in last decimnals)\n",
    "fk_grid = np.asarray([0.06925758, 0.07766876, 0.0867513 , 0.09650597, 0.1069283 ,\n",
    "       0.11800907, 0.12973496, 0.14208925, 0.15505248, 0.1686031 ,\n",
    "       0.18271814, 0.1973737 , 0.21254546, 0.22820903, 0.2443403 ,\n",
    "       0.26091567, 0.27791224, 0.29530795, 0.31308165, 0.3312132 ,\n",
    "       0.34968345, 0.36847427, 0.38756856, 0.40695015, 0.42660388,\n",
    "       0.44651545, 0.46667146, 0.48705931, 0.5076672 , 0.52848404,\n",
    "       0.54949944, 0.57070365, 0.59208751, 0.61364244, 0.63536037,\n",
    "       0.65723374, 0.67925541, 0.7014187 , 0.72371732, 0.74614532,\n",
    "       0.76869713, 0.79136749, 0.81415143, 0.83704426, 0.86004155,\n",
    "       0.88313913, 0.90633305, 0.92961954, 0.95299508, 0.97645629])"
   ]
  },
  {
   "cell_type": "code",
   "execution_count": null,
   "id": "6ae798a8",
   "metadata": {},
   "outputs": [],
   "source": [
    "FK = build_FK_FNS(fk_grid)\n",
    "y, cov = load_data_FNS()"
   ]
  },
  {
   "cell_type": "code",
   "execution_count": null,
   "id": "f9fbcd7d",
   "metadata": {},
   "outputs": [],
   "source": [
    "f = pdfs.get_evolution_xpdfs(\"NNPDF40_nnlo_as_01180\", 0, fk_grid, 1.65)"
   ]
  },
  {
   "cell_type": "code",
   "execution_count": null,
   "id": "f5598dc5",
   "metadata": {},
   "outputs": [],
   "source": [
    "yth = FK@f"
   ]
  },
  {
   "cell_type": "code",
   "execution_count": null,
   "id": "3e2f92b6",
   "metadata": {},
   "outputs": [],
   "source": [
    "l, u = np.linalg.eigh(cov)  # usa np.linalg.eigh\n",
    "cov_inv = u @ np.diag(1.0 / l) @ u.T"
   ]
  },
  {
   "cell_type": "code",
   "execution_count": null,
   "id": "85a78eb2",
   "metadata": {},
   "outputs": [],
   "source": [
    "((y-yth)@cov_inv@(y-yth).T)/y.size"
   ]
  },
  {
   "cell_type": "code",
   "execution_count": null,
   "id": "53977fe2",
   "metadata": {},
   "outputs": [],
   "source": [
    "points=np.arange(y.size)\n",
    "sigma=np.sqrt(np.diagonal(cov))/y\n",
    "plt.errorbar(points,y/y,sigma, fmt=\".\",alpha=0.5)\n",
    "plt.scatter(points,yth/y, s=2, c=\"red\")\n",
    "plt.ylim([-2,2])\n",
    "plt.show()"
   ]
  },
  {
   "cell_type": "code",
   "execution_count": null,
   "id": "149145d0",
   "metadata": {},
   "outputs": [],
   "source": [
    "yth"
   ]
  },
  {
   "cell_type": "code",
   "execution_count": null,
   "id": "7268e793",
   "metadata": {},
   "outputs": [],
   "source": [
    "# NOTE: in DIS the FK tables are convoluted with xf.\n",
    "# when using GPs the evolution basis is given by\n",
    "# xS, xg, V, V3, V8, V15, T3, T8, T15\n",
    "# therefore for the flavors V, V3, V8, V15, T3, T8, T15 I have to reabsorb\n",
    "# the factor x in the FK table\n",
    "\n",
    "# reformulate in terms of gp pdfs and fks\n",
    "\n",
    "# pdfs\n",
    "f_gp_xS_xg = f[:2*fk_grid.size]\n",
    "\n",
    "division_grid = np.concatenate([fk_grid for i in range(2,9)])\n",
    "f_gp_V_V3_V8_V15_T3_T8_T15 = np.divide(f[2*fk_grid.size:], division_grid)\n",
    "f_gp = np.concatenate([f_gp_xS_xg, f_gp_V_V3_V8_V15_T3_T8_T15])\n",
    "\n",
    "# fk \n",
    "FK_xS_xg = FK[:,:2*fk_grid.size]\n",
    "FK_V_V3_V8_V15_T3_T8_T15 = np.multiply(FK[:,2*fk_grid.size:], division_grid)\n",
    "FK_gp = np.concatenate([FK_xS_xg, FK_V_V3_V8_V15_T3_T8_T15], axis=1)\n",
    "\n",
    "yth_gp = FK_gp @ f_gp\n"
   ]
  },
  {
   "cell_type": "code",
   "execution_count": null,
   "id": "e9c26157",
   "metadata": {},
   "outputs": [],
   "source": [
    "((y-yth_gp)@cov_inv@(y-yth_gp).T)/y.size"
   ]
  },
  {
   "cell_type": "code",
   "execution_count": null,
   "id": "4dda5732",
   "metadata": {},
   "outputs": [],
   "source": [
    "# pseudo data\n",
    "y = FK_gp @ f_gp"
   ]
  },
  {
   "cell_type": "code",
   "execution_count": null,
   "id": "40915d0a",
   "metadata": {},
   "outputs": [],
   "source": [
    "# generate GP\n",
    "theta = {\n",
    "    \"sigma\": [5, 5, 3, 3, 3, 3, 1, 3, 3],  \n",
    "    \"l0\": [1, 1, 4, 4, 4, 4, 1, 4, 4],\n",
    "    \"alpha\": [-0.01, -0.01, -0.2, -0.1, -0.1, -0.1, -0.5, -0.2, -0.1]\n",
    "}\n",
    "gp0 = GP_generator(\"Gibbs\", fk_grid, y, cov, FK_gp, kin_lim=True, theta=theta)"
   ]
  },
  {
   "cell_type": "code",
   "execution_count": null,
   "id": "73879064",
   "metadata": {},
   "outputs": [],
   "source": [
    "# define a grid for f*\n",
    "grids_smallx = np.geomspace(1e-6, 0.1, 30)\n",
    "grids_largex = np.linspace(0.1, 1., 30)\n",
    "grids = np.concatenate([grids_smallx, grids_largex])\n",
    "ngrids = grids.size"
   ]
  },
  {
   "cell_type": "code",
   "execution_count": null,
   "id": "d1db1d8e",
   "metadata": {},
   "outputs": [],
   "source": [
    "# compute mean and cov for prior and posterior, no sumrules \n",
    "mean_prior0a, cov_prior0a = gp0.get_prior(grids)"
   ]
  },
  {
   "cell_type": "code",
   "execution_count": null,
   "id": "6e983caa",
   "metadata": {},
   "outputs": [],
   "source": [
    "mean_posterior0a, cov_posterior0a = gp0.get_posterior(grids) #, sumrules=True"
   ]
  },
  {
   "cell_type": "code",
   "execution_count": null,
   "id": "ce9b0b64",
   "metadata": {},
   "outputs": [],
   "source": [
    "def sample_GP(mean, cov, nsamples=1000):\n",
    "    samples = np.random.multivariate_normal(mean, cov, size=nsamples)\n",
    "    cv = samples.mean(axis=0)\n",
    "    std = samples.std(axis=0)\n",
    "\n",
    "    return cv, std"
   ]
  },
  {
   "cell_type": "code",
   "execution_count": null,
   "id": "5efd5c26",
   "metadata": {},
   "outputs": [],
   "source": [
    "cv, std = sample_GP(mean_posterior0a, cov_posterior0a)"
   ]
  },
  {
   "cell_type": "code",
   "execution_count": null,
   "id": "dd117d62",
   "metadata": {},
   "outputs": [],
   "source": [
    "res = np.array([cv[i*ngrids:(i+1)*ngrids] for i in range(0,9)])\n",
    "err = np.array([std[i*ngrids:(i+1)*ngrids] for i in range(0,9)])\n",
    "ff = (pdfs.get_evolution_pdfs(\"NNPDF40_nnlo_as_01180\", 0, grids, 1.65)).reshape((9,ngrids))"
   ]
  },
  {
   "cell_type": "code",
   "execution_count": null,
   "id": "3802885b",
   "metadata": {},
   "outputs": [],
   "source": [
    "ff.shape"
   ]
  },
  {
   "cell_type": "code",
   "execution_count": null,
   "id": "41b2e3e7",
   "metadata": {},
   "outputs": [],
   "source": [
    "labels=[\"xSigma\", \"xg\", \"V\", \"V3\", \"V8\", \"V15\", \"T3\", \"T8\", \"T15\"]\n",
    "\n",
    "for flav in range(6,7):\n",
    "    plt.plot(grids, ff[flav,:], \"-\", color=\"black\")\n",
    "    plt.plot(grids, res[flav,:], \"-\")\n",
    "    plt.fill_between(grids, res[flav,:] - err[flav,:], res[flav,:] + err[flav,:], label=labels[flav], alpha=0.5)\n",
    "\n",
    "plt.xscale(\"linear\")\n",
    "plt.ylim([-1,2])\n",
    "plt.legend()"
   ]
  },
  {
   "cell_type": "code",
   "execution_count": null,
   "id": "fdb1af02",
   "metadata": {},
   "outputs": [],
   "source": [
    "# note that the kin lim is now imposed in the wronf way, i.e. taking the last point of the FK table rather than 1.\n",
    "# check what happens if you use theory 400, or define an independent grid like in the case of sumrules"
   ]
  },
  {
   "cell_type": "code",
   "execution_count": null,
   "id": "af73b54e",
   "metadata": {},
   "outputs": [],
   "source": [
    "thpred, pdf_err = gp0.compute_th_prediction()"
   ]
  },
  {
   "cell_type": "code",
   "execution_count": null,
   "id": "66334efa",
   "metadata": {},
   "outputs": [],
   "source": [
    "((y-thpred)@cov_inv@(y-thpred).T)/y.size"
   ]
  },
  {
   "cell_type": "code",
   "execution_count": null,
   "id": "da4a7ead",
   "metadata": {},
   "outputs": [],
   "source": [
    "y"
   ]
  },
  {
   "cell_type": "code",
   "execution_count": null,
   "id": "4feac31b",
   "metadata": {},
   "outputs": [],
   "source": []
  }
 ],
 "metadata": {
  "kernelspec": {
   "display_name": "Python 3 (ipykernel)",
   "language": "python",
   "name": "python3"
  },
  "language_info": {
   "codemirror_mode": {
    "name": "ipython",
    "version": 3
   },
   "file_extension": ".py",
   "mimetype": "text/x-python",
   "name": "python",
   "nbconvert_exporter": "python",
   "pygments_lexer": "ipython3",
   "version": "3.9.12"
  }
 },
 "nbformat": 4,
 "nbformat_minor": 5
}
