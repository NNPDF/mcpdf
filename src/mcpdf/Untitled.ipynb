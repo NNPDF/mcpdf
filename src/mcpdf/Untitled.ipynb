{
 "cells": [
  {
   "cell_type": "code",
   "execution_count": 12,
   "id": "a7921f7f",
   "metadata": {},
   "outputs": [],
   "source": [
    "import numpy as np\n",
    "from loader import load_data, build_FK\n",
    "from inference import pdfs"
   ]
  },
  {
   "cell_type": "code",
   "execution_count": 13,
   "id": "a567691d",
   "metadata": {},
   "outputs": [],
   "source": [
    "datasets_list=[\n",
    "    #'HERACOMBNCEM',\n",
    "    #'HERACOMBNCEP460', \n",
    "    #'HERACOMBNCEP575',\n",
    "    #'HERACOMBNCEP820'\n",
    "    #'HERACOMBNCEP920',\n",
    "    #'HERACOMBCCEM',\n",
    "    #'HERACOMBCCEP',\n",
    "    #'HERACOMB_SIGMARED_B',\n",
    "    'HERACOMB_SIGMARED_C'\n",
    "]"
   ]
  },
  {
   "cell_type": "code",
   "execution_count": 14,
   "id": "f534f885",
   "metadata": {},
   "outputs": [],
   "source": [
    "y,cov=load_data(datasets_list)"
   ]
  },
  {
   "cell_type": "code",
   "execution_count": 15,
   "id": "c14d5428",
   "metadata": {},
   "outputs": [],
   "source": [
    "fk_grid=np.geomspace(1e-6,1.,50)"
   ]
  },
  {
   "cell_type": "code",
   "execution_count": 16,
   "id": "14f80faf",
   "metadata": {},
   "outputs": [],
   "source": [
    "FK = build_FK(datasets_list, fk_grid)"
   ]
  },
  {
   "cell_type": "code",
   "execution_count": 17,
   "id": "e1ed2895",
   "metadata": {},
   "outputs": [],
   "source": [
    "f = pdfs.get_evolution_pdfs(\"NNPDF40_nnlo_as_01180\", 0, fk_grid, 1.65)"
   ]
  },
  {
   "cell_type": "code",
   "execution_count": 18,
   "id": "32e083bc",
   "metadata": {},
   "outputs": [],
   "source": [
    "yth = FK@f"
   ]
  },
  {
   "cell_type": "code",
   "execution_count": 19,
   "id": "e818befe",
   "metadata": {},
   "outputs": [
    {
     "data": {
      "text/plain": [
       "2.044419514623082"
      ]
     },
     "execution_count": 19,
     "metadata": {},
     "output_type": "execute_result"
    }
   ],
   "source": [
    "l, u = np.linalg.eigh(cov)  # usa np.linalg.eigh\n",
    "cov_inv = u @ np.diag(1.0 / l) @ u.T\n",
    "((y-yth)@cov_inv@(y-yth).T)/y.size"
   ]
  },
  {
   "cell_type": "code",
   "execution_count": 20,
   "id": "cb8bd08d",
   "metadata": {},
   "outputs": [
    {
     "data": {
      "text/plain": [
       "(37, 450)"
      ]
     },
     "execution_count": 20,
     "metadata": {},
     "output_type": "execute_result"
    }
   ],
   "source": [
    "FK.shape"
   ]
  },
  {
   "cell_type": "code",
   "execution_count": null,
   "id": "fcb09c86",
   "metadata": {},
   "outputs": [],
   "source": []
  }
 ],
 "metadata": {
  "kernelspec": {
   "display_name": "Python 3 (ipykernel)",
   "language": "python",
   "name": "python3"
  },
  "language_info": {
   "codemirror_mode": {
    "name": "ipython",
    "version": 3
   },
   "file_extension": ".py",
   "mimetype": "text/x-python",
   "name": "python",
   "nbconvert_exporter": "python",
   "pygments_lexer": "ipython3",
   "version": "3.9.16"
  }
 },
 "nbformat": 4,
 "nbformat_minor": 5
}
