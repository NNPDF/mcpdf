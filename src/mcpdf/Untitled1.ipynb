{
 "cells": [
  {
   "cell_type": "code",
   "execution_count": 1,
   "id": "6a9f8a10",
   "metadata": {},
   "outputs": [],
   "source": [
    "from nnpdf import data, defaults, theory\n",
    "from inference import pdfs\n",
    "import numpy as np\n",
    "import matplotlib.pyplot as plt\n",
    "from eko import interpolation\n",
    "import loader\n",
    "\n"
   ]
  },
  {
   "cell_type": "code",
   "execution_count": 2,
   "id": "49a52e2d",
   "metadata": {},
   "outputs": [
    {
     "data": {
      "text/plain": [
       "(581,)"
      ]
     },
     "execution_count": 2,
     "metadata": {},
     "output_type": "execute_result"
    }
   ],
   "source": [
    "# datasets I want to consider, random ordering\n",
    "datasets = [\n",
    "    {'dataset': 'BCDMSP_dwsh', 'frac': 0.75},\n",
    "    {'dataset': 'BCDMSD_dw_ite', 'frac': 0.75},\n",
    "    #{\"dataset\": 'NMCPD_dw_ite', 'frac':0.75},\n",
    "    #{\"dataset\": 'NMC', 'frac':0.75},\n",
    "]\n",
    "\n",
    "\n",
    "# load data and covmat for all the dataset\n",
    "y = data.values(fit=defaults.BASELINE_PDF, dataset_inputs=datasets)\n",
    "cov = data.covmat(fit=defaults.BASELINE_PDF, dataset_inputs=datasets)\n",
    "\n",
    "y.shape\n"
   ]
  },
  {
   "cell_type": "code",
   "execution_count": 3,
   "id": "463a79a2",
   "metadata": {},
   "outputs": [],
   "source": [
    "covFpFp = cov[85:333,85:333]\n",
    "covFdFd = cov[333:,333:]\n",
    "covFpFd = cov[85:333,333:]\n",
    "covFdFp = cov[333:,85:333]"
   ]
  },
  {
   "cell_type": "code",
   "execution_count": 4,
   "id": "0fb07d0d",
   "metadata": {},
   "outputs": [],
   "source": [
    "covFNS = covFpFp + covFdFd - covFpFd - covFdFp"
   ]
  },
  {
   "cell_type": "code",
   "execution_count": 5,
   "id": "e52c5421",
   "metadata": {},
   "outputs": [
    {
     "data": {
      "text/plain": [
       "(248, 248)"
      ]
     },
     "execution_count": 5,
     "metadata": {},
     "output_type": "execute_result"
    }
   ],
   "source": [
    "covFNS.shape"
   ]
  },
  {
   "cell_type": "code",
   "execution_count": 6,
   "id": "b5ff03e2",
   "metadata": {},
   "outputs": [],
   "source": [
    "fks = theory.theory(dataset_inputs=[ds['dataset'] for ds in datasets], theoryid=400)\n",
    "\n"
   ]
  },
  {
   "cell_type": "code",
   "execution_count": 7,
   "id": "bd527ee6",
   "metadata": {},
   "outputs": [
    {
     "data": {
      "text/plain": [
       "array([2.00000000e-07, 3.03430477e-07, 4.60350147e-07, 6.98420853e-07,\n",
       "       1.05960950e-06, 1.60758550e-06, 2.43894329e-06, 3.70022721e-06,\n",
       "       5.61375772e-06, 8.51680668e-06, 1.29210157e-05, 1.96025050e-05,\n",
       "       2.97384954e-05, 4.51143839e-05, 6.84374492e-05, 1.03811730e-04,\n",
       "       1.57456056e-04, 2.38787829e-04, 3.62054496e-04, 5.48779532e-04,\n",
       "       8.31406884e-04, 1.25867971e-03, 1.90346340e-03, 2.87386758e-03,\n",
       "       4.32850064e-03, 6.49620619e-03, 9.69915957e-03, 1.43750686e-02,\n",
       "       2.10891867e-02, 3.05215840e-02, 4.34149174e-02, 6.04800288e-02,\n",
       "       8.22812213e-02, 1.09143757e-01, 1.41120806e-01, 1.78025660e-01,\n",
       "       2.19504127e-01, 2.65113704e-01, 3.14387401e-01, 3.66875319e-01,\n",
       "       4.22166775e-01, 4.79898903e-01, 5.39757234e-01, 6.01472198e-01,\n",
       "       6.64813948e-01, 7.29586844e-01, 7.95624252e-01, 8.62783932e-01,\n",
       "       9.30944081e-01, 1.00000000e+00])"
      ]
     },
     "execution_count": 7,
     "metadata": {},
     "output_type": "execute_result"
    }
   ],
   "source": [
    "fks[0].elements[0].xgrid"
   ]
  },
  {
   "cell_type": "code",
   "execution_count": 8,
   "id": "fe309124",
   "metadata": {},
   "outputs": [
    {
     "data": {
      "text/plain": [
       "array([2.00000000e-07, 3.03430477e-07, 4.60350147e-07, 6.98420853e-07,\n",
       "       1.05960950e-06, 1.60758550e-06, 2.43894329e-06, 3.70022721e-06,\n",
       "       5.61375772e-06, 8.51680668e-06, 1.29210157e-05, 1.96025050e-05,\n",
       "       2.97384954e-05, 4.51143839e-05, 6.84374492e-05, 1.03811730e-04,\n",
       "       1.57456056e-04, 2.38787829e-04, 3.62054496e-04, 5.48779532e-04,\n",
       "       8.31406884e-04, 1.25867971e-03, 1.90346340e-03, 2.87386758e-03,\n",
       "       4.32850064e-03, 6.49620619e-03, 9.69915957e-03, 1.43750686e-02,\n",
       "       2.10891867e-02, 3.05215840e-02, 4.34149174e-02, 6.04800288e-02,\n",
       "       8.22812213e-02, 1.09143757e-01, 1.41120806e-01, 1.78025660e-01,\n",
       "       2.19504127e-01, 2.65113704e-01, 3.14387401e-01, 3.66875319e-01,\n",
       "       4.22166775e-01, 4.79898903e-01, 5.39757234e-01, 6.01472198e-01,\n",
       "       6.64813948e-01, 7.29586844e-01, 7.95624252e-01, 8.62783932e-01,\n",
       "       9.30944081e-01, 1.00000000e+00])"
      ]
     },
     "execution_count": 8,
     "metadata": {},
     "output_type": "execute_result"
    }
   ],
   "source": [
    "fks[1].elements[0].xgrid"
   ]
  },
  {
   "cell_type": "code",
   "execution_count": null,
   "id": "befc03df",
   "metadata": {},
   "outputs": [],
   "source": [
    "fks[0].elements[0].flavors\n"
   ]
  },
  {
   "cell_type": "code",
   "execution_count": null,
   "id": "48c6864d",
   "metadata": {},
   "outputs": [],
   "source": [
    "fk_full = loader.build_FK_FNS(fks[0].elements[0].xgrid)"
   ]
  },
  {
   "cell_type": "code",
   "execution_count": null,
   "id": "0651a1ab",
   "metadata": {},
   "outputs": [],
   "source": [
    "fk_full.shape"
   ]
  },
  {
   "cell_type": "code",
   "execution_count": null,
   "id": "72e40ba4",
   "metadata": {},
   "outputs": [],
   "source": [
    "indexT3=6\n",
    "lengrid = fks[0].elements[0].xgrid.size \n",
    "fk_full[:,indexT3*lengrid:(indexT3+1)*lengrid]"
   ]
  },
  {
   "cell_type": "code",
   "execution_count": null,
   "id": "e91ccd7d",
   "metadata": {},
   "outputs": [],
   "source": [
    "(fks[0].elements[0].table[:,2,:])[85:,:]"
   ]
  },
  {
   "cell_type": "code",
   "execution_count": null,
   "id": "9af160f0",
   "metadata": {},
   "outputs": [],
   "source": [
    "Fp = y[85:333]\n",
    "Fd = y[333:]"
   ]
  },
  {
   "cell_type": "code",
   "execution_count": null,
   "id": "b5ee8dcc",
   "metadata": {},
   "outputs": [],
   "source": [
    "Fp-Fd"
   ]
  },
  {
   "cell_type": "code",
   "execution_count": null,
   "id": "b015223b",
   "metadata": {},
   "outputs": [],
   "source": [
    "FNS_, covFNS_ = loader.load_data_FNS()"
   ]
  },
  {
   "cell_type": "code",
   "execution_count": null,
   "id": "38fbbd78",
   "metadata": {},
   "outputs": [],
   "source": [
    "FNS_ == Fp-Fd"
   ]
  },
  {
   "cell_type": "code",
   "execution_count": null,
   "id": "8ffd4745",
   "metadata": {},
   "outputs": [],
   "source": [
    "covFNS_"
   ]
  },
  {
   "cell_type": "code",
   "execution_count": null,
   "id": "17a31546",
   "metadata": {},
   "outputs": [],
   "source": [
    "covFNS == covFNS_"
   ]
  },
  {
   "cell_type": "code",
   "execution_count": null,
   "id": "57eb3670",
   "metadata": {},
   "outputs": [],
   "source": []
  },
  {
   "cell_type": "code",
   "execution_count": null,
   "id": "8a89a568",
   "metadata": {},
   "outputs": [],
   "source": []
  }
 ],
 "metadata": {
  "kernelspec": {
   "display_name": "Python 3 (ipykernel)",
   "language": "python",
   "name": "python3"
  },
  "language_info": {
   "codemirror_mode": {
    "name": "ipython",
    "version": 3
   },
   "file_extension": ".py",
   "mimetype": "text/x-python",
   "name": "python",
   "nbconvert_exporter": "python",
   "pygments_lexer": "ipython3",
   "version": "3.9.16"
  }
 },
 "nbformat": 4,
 "nbformat_minor": 5
}
