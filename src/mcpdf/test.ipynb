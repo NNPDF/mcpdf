{
 "cells": [
  {
   "cell_type": "code",
   "execution_count": 1,
   "id": "2975f7f0",
   "metadata": {},
   "outputs": [],
   "source": [
    "import data\n",
    "import numpy as np"
   ]
  },
  {
   "cell_type": "code",
   "execution_count": 2,
   "id": "ea482711",
   "metadata": {},
   "outputs": [],
   "source": [
    "# datasets\n",
    "datasets_list = [\n",
    "    {'dataset': 'HERACOMBNCEM', 'frac': 0.75}, \n",
    "    {'dataset': 'HERACOMBNCEP460', 'frac': 0.75}, \n",
    "    {'dataset': 'HERACOMBNCEP575', 'frac': 0.75}, \n",
    "    {'dataset': 'HERACOMBNCEP820', 'frac': 0.75}, \n",
    "    {'dataset': 'HERACOMBNCEP920', 'frac': 0.75}, \n",
    "    {'dataset': 'HERACOMBCCEM', 'frac': 0.75}, \n",
    "    {'dataset': 'HERACOMBCCEP', 'frac': 0.75},\n",
    "    {'dataset': 'CHORUSNUPb_dw_ite', 'frac': 0.75}, \n",
    "    {'dataset': 'CHORUSNBPb_dw_ite', 'frac': 0.75}, \n",
    "    {'dataset': 'NTVNUDMNFe_dw_ite', 'frac': 0.75}, \n",
    "    {'dataset': 'NTVNBDMNFe_dw_ite', 'frac': 0.75}]\n",
    "\n",
    "ndatasets = len(datasets_list)\n",
    "\n",
    "# load data and covmat for all the dataset\n",
    "data.config['dataset_inputs'] = datasets_list\n",
    "\n",
    "y = data.values()\n",
    "cov = data.covmat()"
   ]
  },
  {
   "cell_type": "code",
   "execution_count": 3,
   "id": "45435f05",
   "metadata": {},
   "outputs": [
    {
     "data": {
      "text/plain": [
       "(2053,)"
      ]
     },
     "execution_count": 3,
     "metadata": {},
     "output_type": "execute_result"
    }
   ],
   "source": [
    "y.shape"
   ]
  },
  {
   "cell_type": "code",
   "execution_count": 4,
   "id": "f21821c7",
   "metadata": {},
   "outputs": [
    {
     "data": {
      "text/plain": [
       "(2053, 2053)"
      ]
     },
     "execution_count": 4,
     "metadata": {},
     "output_type": "execute_result"
    }
   ],
   "source": [
    "cov.shape"
   ]
  },
  {
   "cell_type": "code",
   "execution_count": 5,
   "id": "69745980",
   "metadata": {},
   "outputs": [
    {
     "name": "stdout",
     "output_type": "stream",
     "text": [
      "\n",
      "-- Reading COMMONDATA for Dataset: HERACOMBNCEM\n",
      "nData: 159 nSys: 170\n",
      "-- COMMONDATA Files for HERACOMBNCEM successfully read.\n",
      "\n",
      "\n",
      "-- Reading COMMONDATA for Dataset: HERACOMBNCEP460\n",
      "nData: 209 nSys: 170\n",
      "-- COMMONDATA Files for HERACOMBNCEP460 successfully read.\n",
      "\n",
      "\n",
      "-- Reading COMMONDATA for Dataset: HERACOMBNCEP575\n",
      "nData: 260 nSys: 170\n",
      "-- COMMONDATA Files for HERACOMBNCEP575 successfully read.\n",
      "\n",
      "\n",
      "-- Reading COMMONDATA for Dataset: HERACOMBNCEP820\n",
      "nData: 112 nSys: 170\n",
      "-- COMMONDATA Files for HERACOMBNCEP820 successfully read.\n",
      "\n",
      "\n",
      "-- Reading COMMONDATA for Dataset: HERACOMBNCEP920\n",
      "nData: 485 nSys: 170\n",
      "-- COMMONDATA Files for HERACOMBNCEP920 successfully read.\n",
      "\n",
      "\n",
      "-- Reading COMMONDATA for Dataset: HERACOMBCCEM\n",
      "nData: 42 nSys: 170\n",
      "-- COMMONDATA Files for HERACOMBCCEM successfully read.\n",
      "\n",
      "\n",
      "-- Reading COMMONDATA for Dataset: HERACOMBCCEP\n",
      "nData: 39 nSys: 170\n",
      "-- COMMONDATA Files for HERACOMBCCEP successfully read.\n",
      "\n",
      "\n",
      "-- Reading COMMONDATA for Dataset: CHORUSNUPb_dw_ite\n",
      "nData: 607 nSys: 1014\n",
      "-- COMMONDATA Files for CHORUSNUPb_dw_ite successfully read.\n",
      "\n",
      "\n",
      "-- Reading COMMONDATA for Dataset: CHORUSNBPb_dw_ite\n",
      "nData: 607 nSys: 114\n",
      "-- COMMONDATA Files for CHORUSNBPb_dw_ite successfully read.\n",
      "\n",
      "\n",
      "-- Reading COMMONDATA for Dataset: NTVNUDMNFe_dw_ite\n",
      "nData: 45 nSys: 1003\n",
      "-- COMMONDATA Files for NTVNUDMNFe_dw_ite successfully read.\n",
      "\n",
      "\n",
      "-- Reading COMMONDATA for Dataset: NTVNBDMNFe_dw_ite\n",
      "nData: 45 nSys: 103\n",
      "-- COMMONDATA Files for NTVNBDMNFe_dw_ite successfully read.\n",
      "\n"
     ]
    },
    {
     "data": {
      "text/plain": [
       "(2053, 9, 50)"
      ]
     },
     "execution_count": 5,
     "metadata": {},
     "output_type": "execute_result"
    }
   ],
   "source": [
    "# load FK tables\n",
    "fk_tot = data.theory()\n",
    "fk_bare = np.concatenate([fk_tot[i]['elements'][0] for i in range(0,ndatasets)],axis=0)\n",
    "fk_bare.shape"
   ]
  },
  {
   "cell_type": "code",
   "execution_count": 6,
   "id": "ca33cde9",
   "metadata": {},
   "outputs": [
    {
     "data": {
      "text/plain": [
       "(2053, 450)"
      ]
     },
     "execution_count": 6,
     "metadata": {},
     "output_type": "execute_result"
    }
   ],
   "source": [
    "# reshape FK table as a matrix\n",
    "ndata, nbasis, nx = fk_bare.shape\n",
    "fk = fk_bare.reshape(ndata,nbasis*nx)\n",
    "fk.shape"
   ]
  },
  {
   "cell_type": "code",
   "execution_count": 7,
   "id": "9c05135a",
   "metadata": {},
   "outputs": [
    {
     "data": {
      "text/plain": [
       "array([6.37472410e-01, 1.38542626e-01, 7.73856160e-02, ...,\n",
       "       3.49172105e-04, 3.70836093e-04, 3.52542873e-04])"
      ]
     },
     "execution_count": 7,
     "metadata": {},
     "output_type": "execute_result"
    }
   ],
   "source": [
    "# diagonalize experimental covmat and check its eigenvalues\n",
    "l, u = np.linalg.eig(cov)\n",
    "l"
   ]
  },
  {
   "cell_type": "code",
   "execution_count": 8,
   "id": "be8a6443",
   "metadata": {},
   "outputs": [],
   "source": [
    "#inv_cov = u @ np.diag(1./l) @ u.T \n",
    "#inv_cov@cov"
   ]
  },
  {
   "cell_type": "code",
   "execution_count": 9,
   "id": "1c5e7247",
   "metadata": {},
   "outputs": [],
   "source": [
    "# compute inverse of the posterior covmat according to Eq.46\n",
    "v = u.T@fk\n",
    "posterior_cov_inverse = v.T @ np.diag(1./l) @ v"
   ]
  },
  {
   "cell_type": "code",
   "execution_count": 10,
   "id": "888bb234",
   "metadata": {},
   "outputs": [
    {
     "data": {
      "text/plain": [
       "(450, 450)"
      ]
     },
     "execution_count": 10,
     "metadata": {},
     "output_type": "execute_result"
    }
   ],
   "source": [
    "posterior_cov_inverse.shape"
   ]
  },
  {
   "cell_type": "code",
   "execution_count": 11,
   "id": "fbfa1e3d",
   "metadata": {},
   "outputs": [],
   "source": [
    "# add a gaussian prior proportional to regularize\n",
    "_, N = posterior_cov_inverse.shape\n",
    "posterior_cov_inverse_prior = posterior_cov_inverse + 0.001*np.identity(N)"
   ]
  },
  {
   "cell_type": "code",
   "execution_count": 12,
   "id": "a488fb68",
   "metadata": {},
   "outputs": [
    {
     "data": {
      "text/plain": [
       "array([ 1.58641953e+05,  1.34478321e+05,  1.03901121e+05,  7.22786826e+04,\n",
       "        6.88418277e+04,  5.15355812e+04,  4.81516049e+04,  3.98592421e+04,\n",
       "        3.83438508e+04,  3.45999788e+04,  3.32642073e+04,  2.86456442e+04,\n",
       "        2.61994592e+04,  2.49128214e+04,  2.28017741e+04,  2.15461332e+04,\n",
       "        2.01641605e+04,  1.93153971e+04,  1.77281270e+04,  1.70283322e+04,\n",
       "        1.62008296e+04,  1.57497688e+04,  1.47864853e+04,  1.45574983e+04,\n",
       "        1.39584897e+04,  1.34120331e+04,  1.30895619e+04,  1.19433230e+04,\n",
       "        1.16405043e+04,  1.14900515e+04,  1.05878141e+04,  9.88003099e+03,\n",
       "        9.81465900e+03,  9.65545580e+03,  9.26002058e+03,  9.17989265e+03,\n",
       "        8.92116584e+03,  8.23853391e+03,  8.04491013e+03,  7.86477757e+03,\n",
       "        7.51155025e+03,  7.42972291e+03,  7.35540127e+03,  6.98648103e+03,\n",
       "        6.78172721e+03,  6.40845173e+03,  6.14927785e+03,  5.99264425e+03,\n",
       "        5.78916063e+03,  5.73804823e+03,  5.61785542e+03,  5.42562104e+03,\n",
       "        5.10826483e+03,  5.03637628e+03,  4.98517794e+03,  4.84488376e+03,\n",
       "        4.60381903e+03,  4.44060626e+03,  4.33000518e+03,  4.17279685e+03,\n",
       "        4.03931332e+03,  4.01411624e+03,  3.97505622e+03,  3.79591390e+03,\n",
       "        3.81903774e+03,  3.83125313e+03,  3.53409584e+03,  3.50256005e+03,\n",
       "        3.22485015e+03,  3.22829496e+03,  3.16037840e+03,  3.09348533e+03,\n",
       "        3.01220856e+03,  2.86615866e+03,  2.83403900e+03,  2.74226505e+03,\n",
       "        2.69454615e+03,  2.65972571e+03,  2.56324310e+03,  2.56933165e+03,\n",
       "        2.42443170e+03,  2.40943006e+03,  2.27116476e+03,  2.10647259e+03,\n",
       "        2.04461686e+03,  1.97249839e+03,  1.90341015e+03,  1.85645557e+03,\n",
       "        1.81678234e+03,  1.78119325e+03,  1.65359166e+03,  1.59723491e+03,\n",
       "        1.56859095e+03,  1.51444205e+03,  1.48328215e+03,  1.44611250e+03,\n",
       "        1.32871322e+03,  1.22855627e+03,  1.19328453e+03,  1.16286621e+03,\n",
       "        1.12216125e+03,  1.06890408e+03,  1.02226823e+03,  9.86287671e+02,\n",
       "        9.36778828e+02,  9.24301852e+02,  8.65830533e+02,  8.33717638e+02,\n",
       "        8.25916566e+02,  8.23141357e+02,  7.40162827e+02,  7.12177346e+02,\n",
       "        6.99353730e+02,  6.67494485e+02,  6.57791184e+02,  6.32077073e+02,\n",
       "        6.12424668e+02,  5.98060833e+02,  5.69523903e+02,  5.27418739e+02,\n",
       "        5.07294461e+02,  5.10416705e+02,  4.82109306e+02,  4.78694314e+02,\n",
       "        4.52762128e+02,  4.46050157e+02,  4.23870938e+02,  4.14372083e+02,\n",
       "        3.78504796e+02,  3.64003161e+02,  3.60313674e+02,  3.35268950e+02,\n",
       "        3.31779222e+02,  3.17981574e+02,  3.03789124e+02,  2.92588527e+02,\n",
       "        2.79297145e+02,  2.58659622e+02,  2.42508351e+02,  2.35894903e+02,\n",
       "        2.28085375e+02,  2.17363007e+02,  2.10212108e+02,  2.03220624e+02,\n",
       "        2.01467799e+02,  1.78875138e+02,  1.74948214e+02,  1.64825758e+02,\n",
       "        1.63172298e+02,  1.60564411e+02,  1.59114939e+02,  1.47715064e+02,\n",
       "        1.41312718e+02,  1.31343749e+02,  1.30890851e+02,  1.24932262e+02,\n",
       "        1.17221707e+02,  1.13643629e+02,  1.09450959e+02,  1.06928715e+02,\n",
       "        1.04317151e+02,  9.78056493e+01,  9.56855454e+01,  8.51666359e+01,\n",
       "        8.22187067e+01,  7.67067763e+01,  7.49449946e+01,  7.42335613e+01,\n",
       "        7.34571209e+01,  7.22825832e+01,  6.45742430e+01,  6.14695681e+01,\n",
       "        6.02973593e+01,  6.04512020e+01,  5.86055772e+01,  5.52164068e+01,\n",
       "        5.12236910e+01,  4.85924951e+01,  4.74159416e+01,  4.63309203e+01,\n",
       "        4.53735394e+01,  4.50077111e+01,  4.33114652e+01,  4.29533105e+01,\n",
       "        3.94846987e+01,  3.77284216e+01,  3.65841401e+01,  3.59200547e+01,\n",
       "        3.47766266e+01,  3.14908135e+01,  3.09817645e+01,  2.91733497e+01,\n",
       "        2.73347752e+01,  2.64229717e+01,  2.50346373e+01,  2.41448153e+01,\n",
       "        2.28518859e+01,  2.22725966e+01,  2.18163533e+01,  2.08501735e+01,\n",
       "        2.03855840e+01,  1.99286380e+01,  1.93865796e+01,  1.83601964e+01,\n",
       "        1.73605663e+01,  1.66105487e+01,  1.61429176e+01,  1.43341239e+01,\n",
       "        1.39391180e+01,  1.36099244e+01,  1.26600358e+01,  1.13060258e+01,\n",
       "        1.13275404e+01,  1.10494058e+01,  1.02800596e+01,  1.00121204e+01,\n",
       "        9.40379212e+00,  9.02959201e+00,  8.47279962e+00,  8.28117636e+00,\n",
       "        7.61833868e+00,  7.42582394e+00,  7.16322396e+00,  6.81246478e+00,\n",
       "        6.30217337e+00,  6.11472225e+00,  5.95815345e+00,  5.89485480e+00,\n",
       "        5.58111373e+00,  5.22709171e+00,  4.61213558e+00,  4.38692733e+00,\n",
       "        4.20570443e+00,  4.10646194e+00,  3.64869355e+00,  3.41476859e+00,\n",
       "        3.27446044e+00,  3.03786344e+00,  2.97887035e+00,  2.83560781e+00,\n",
       "        2.74793667e+00,  2.61497690e+00,  2.29510106e+00,  2.26382364e+00,\n",
       "        2.24647193e+00,  2.06543140e+00,  2.01663792e+00,  1.94095617e+00,\n",
       "        1.86988863e+00,  1.83080267e+00,  1.80005183e+00,  1.73132362e+00,\n",
       "        1.69479062e+00,  1.56457754e+00,  1.40488715e+00,  1.31893193e+00,\n",
       "        1.25485883e+00,  1.24361319e+00,  1.16352518e+00,  1.14316670e+00,\n",
       "        1.07598081e+00,  9.64318005e-01,  9.46495916e-01,  9.02711804e-01,\n",
       "        8.74756717e-01,  8.53283925e-01,  8.01184090e-01,  7.78036981e-01,\n",
       "        7.36122743e-01,  7.20037925e-01,  7.03693327e-01,  6.24036665e-01,\n",
       "        5.99845667e-01,  5.89058259e-01,  5.45579764e-01,  5.01251597e-01,\n",
       "        4.85590224e-01,  4.61791032e-01,  4.43257518e-01,  4.33413065e-01,\n",
       "        4.02487853e-01,  3.96640167e-01,  3.77773257e-01,  3.38293146e-01,\n",
       "        3.35560808e-01,  3.16514617e-01,  3.11845418e-01,  2.90549495e-01,\n",
       "        2.65930980e-01,  2.44797914e-01,  2.27980352e-01,  2.22521020e-01,\n",
       "        2.03836075e-01,  1.95216493e-01,  1.85111857e-01,  1.75985847e-01,\n",
       "        1.70611760e-01,  1.66382171e-01,  1.62946184e-01,  1.42726209e-01,\n",
       "        1.21260712e-01,  1.18887187e-01,  1.15540992e-01,  1.15918642e-01,\n",
       "        1.10868134e-01,  1.01603772e-01,  8.68915638e-02,  8.53646947e-02,\n",
       "        8.08516107e-02,  7.63802371e-02,  6.88782863e-02,  6.67174128e-02,\n",
       "        6.10465834e-02,  5.89423040e-02,  5.67270189e-02,  5.19738340e-02,\n",
       "        4.98825319e-02,  4.57202845e-02,  4.33213005e-02,  4.18251470e-02,\n",
       "        4.13315751e-02,  3.98364283e-02,  3.71305882e-02,  3.28113010e-02,\n",
       "        2.90917108e-02,  2.79650975e-02,  2.67888629e-02,  2.62970948e-02,\n",
       "        2.25464713e-02,  2.03142280e-02,  1.96650567e-02,  1.70477647e-02,\n",
       "        1.50864311e-02,  1.40914037e-02,  1.38003101e-02,  1.31713217e-02,\n",
       "        1.06616032e-02,  1.03634137e-02,  1.01364167e-02,  8.71782997e-03,\n",
       "        8.38696185e-03,  7.19480098e-03,  6.94934250e-03,  6.43815092e-03,\n",
       "        5.60378056e-03,  4.95342719e-03,  4.73808855e-03,  4.47907549e-03,\n",
       "        4.29172577e-03,  4.38438923e-03,  3.68038911e-03,  3.00506365e-03,\n",
       "        2.76327194e-03,  2.65508561e-03,  2.54751390e-03,  2.23575987e-03,\n",
       "        1.81866879e-03,  1.68420607e-03,  1.46226357e-03,  1.28585150e-03,\n",
       "        1.00042847e-03,  9.51853168e-04,  9.32553720e-04,  7.88625330e-04,\n",
       "        6.48028298e-04,  5.92187971e-04,  5.32174500e-04,  4.04457143e-04,\n",
       "        3.64502025e-04,  2.86361560e-04,  2.65219840e-04,  2.29294823e-04,\n",
       "        2.19909393e-04,  2.05110149e-04,  1.54127627e-04,  1.38030618e-04,\n",
       "        1.42405173e-04,  1.15415001e-04,  9.55101117e-05,  6.85883706e-05,\n",
       "        6.16970112e-05,  5.73071036e-05,  4.53538851e-05,  4.08236335e-05,\n",
       "        3.38700170e-05,  3.19947560e-05,  2.07820992e-05,  1.19722517e-05,\n",
       "        1.07944769e-05,  8.84297684e-06,  7.59003376e-06,  6.30768086e-06,\n",
       "        5.52687558e-06,  5.42001305e-06,  4.70157687e-06,  3.58810678e-06,\n",
       "        2.69923943e-06,  2.25332444e-06,  1.45646414e-06,  1.43305317e-06,\n",
       "        1.09265481e-06,  8.94515975e-07,  6.61572392e-07,  4.44040456e-07,\n",
       "        3.98645449e-07,  3.37994792e-07,  3.05425013e-07,  2.51897143e-07,\n",
       "        1.93356300e-07,  1.59569869e-07,  1.40606189e-07,  1.17173502e-07,\n",
       "        1.01606723e-07,  8.65384494e-08,  7.26054701e-08,  7.04403645e-08,\n",
       "        6.23293155e-08,  4.99562009e-08,  4.20364775e-08,  3.32131437e-08,\n",
       "        3.07567211e-08,  2.89799481e-08,  2.69272682e-08,  2.22608825e-08,\n",
       "        2.12298080e-08,  1.59682903e-08,  1.45488487e-08,  1.38820222e-08,\n",
       "        1.23639818e-08,  8.23222265e-09,  6.86986117e-09,  5.06367184e-09,\n",
       "        4.14348299e-09,  3.21949264e-09,  1.56142271e-09,  9.79487003e-10,\n",
       "        3.69646200e-10,  1.61492734e-10,  1.13373878e-11,  7.40247108e-13,\n",
       "        1.88543862e-13, -1.92502585e-13,  6.76810759e-14,  6.76810759e-14,\n",
       "        2.91023471e-14,  8.47427578e-15,  8.47427578e-15,  2.31568356e-15,\n",
       "       -1.41942474e-14, -4.28520158e-14])"
      ]
     },
     "execution_count": 12,
     "metadata": {},
     "output_type": "execute_result"
    }
   ],
   "source": [
    "# check eigenvalues without prior\n",
    "ll, uu = np.linalg.eig(posterior_cov_inverse)\n",
    "np.real(ll)"
   ]
  },
  {
   "cell_type": "code",
   "execution_count": 13,
   "id": "cdc23081",
   "metadata": {},
   "outputs": [
    {
     "data": {
      "text/plain": [
       "array([1.58641954e+05, 1.34478322e+05, 1.03901122e+05, 7.22786836e+04,\n",
       "       6.88418287e+04, 5.15355822e+04, 4.81516059e+04, 3.98592431e+04,\n",
       "       3.83438518e+04, 3.45999798e+04, 3.32642083e+04, 2.86456452e+04,\n",
       "       2.61994602e+04, 2.49128224e+04, 2.28017751e+04, 2.15461342e+04,\n",
       "       2.01641615e+04, 1.93153981e+04, 1.77281280e+04, 1.70283332e+04,\n",
       "       1.62008306e+04, 1.57497698e+04, 1.47864863e+04, 1.45574993e+04,\n",
       "       1.39584907e+04, 1.34120341e+04, 1.30895629e+04, 1.19433240e+04,\n",
       "       1.16405053e+04, 1.14900525e+04, 1.05878151e+04, 9.88003199e+03,\n",
       "       9.81466000e+03, 9.65545680e+03, 9.26002158e+03, 9.17989365e+03,\n",
       "       8.92116684e+03, 8.23853491e+03, 8.04491113e+03, 7.86477857e+03,\n",
       "       7.51155125e+03, 7.42972391e+03, 7.35540227e+03, 6.98648203e+03,\n",
       "       6.78172821e+03, 6.40845273e+03, 6.14927885e+03, 5.99264525e+03,\n",
       "       5.78916163e+03, 5.73804923e+03, 5.61785642e+03, 5.42562204e+03,\n",
       "       5.10826583e+03, 5.03637728e+03, 4.98517894e+03, 4.84488476e+03,\n",
       "       4.60382003e+03, 4.44060726e+03, 4.33000618e+03, 4.17279785e+03,\n",
       "       4.03931432e+03, 4.01411724e+03, 3.97505722e+03, 3.79591490e+03,\n",
       "       3.81903874e+03, 3.83125413e+03, 3.53409684e+03, 3.50256105e+03,\n",
       "       3.22485115e+03, 3.22829596e+03, 3.16037940e+03, 3.09348633e+03,\n",
       "       3.01220956e+03, 2.86615966e+03, 2.83404000e+03, 2.74226605e+03,\n",
       "       2.69454715e+03, 2.65972671e+03, 2.56324410e+03, 2.56933265e+03,\n",
       "       2.42443270e+03, 2.40943106e+03, 2.27116576e+03, 2.10647359e+03,\n",
       "       2.04461786e+03, 1.97249939e+03, 1.90341115e+03, 1.85645657e+03,\n",
       "       1.81678334e+03, 1.78119425e+03, 1.65359266e+03, 1.59723591e+03,\n",
       "       1.56859195e+03, 1.51444305e+03, 1.48328315e+03, 1.44611350e+03,\n",
       "       1.32871422e+03, 1.22855727e+03, 1.19328553e+03, 1.16286721e+03,\n",
       "       1.12216225e+03, 1.06890508e+03, 1.02226923e+03, 9.86288671e+02,\n",
       "       9.36779828e+02, 9.24302852e+02, 8.65831533e+02, 8.33718638e+02,\n",
       "       8.25917566e+02, 8.23142357e+02, 7.40163827e+02, 7.12178346e+02,\n",
       "       6.99354730e+02, 6.67495485e+02, 6.57792184e+02, 6.32078073e+02,\n",
       "       6.12425668e+02, 5.98061833e+02, 5.69524903e+02, 5.27419739e+02,\n",
       "       5.07295461e+02, 5.10417705e+02, 4.82110306e+02, 4.78695314e+02,\n",
       "       4.52763128e+02, 4.46051157e+02, 4.23871938e+02, 4.14373083e+02,\n",
       "       3.78505796e+02, 3.64004161e+02, 3.60314674e+02, 3.35269950e+02,\n",
       "       3.31780222e+02, 3.17982574e+02, 3.03790124e+02, 2.92589527e+02,\n",
       "       2.79298145e+02, 2.58660622e+02, 2.42509351e+02, 2.35895903e+02,\n",
       "       2.28086375e+02, 2.17364007e+02, 2.10213108e+02, 2.03221624e+02,\n",
       "       2.01468799e+02, 1.78876138e+02, 1.74949214e+02, 1.64826758e+02,\n",
       "       1.63173298e+02, 1.60565411e+02, 1.59115939e+02, 1.47716064e+02,\n",
       "       1.41313718e+02, 1.31344749e+02, 1.30891851e+02, 1.24933262e+02,\n",
       "       1.17222707e+02, 1.13644629e+02, 1.09451959e+02, 1.06929715e+02,\n",
       "       1.04318151e+02, 9.78066493e+01, 9.56865454e+01, 8.51676359e+01,\n",
       "       8.22197067e+01, 7.67077763e+01, 7.49459946e+01, 7.42345613e+01,\n",
       "       7.34581209e+01, 7.22835832e+01, 6.45752430e+01, 6.14705681e+01,\n",
       "       6.02983593e+01, 6.04522020e+01, 5.86065772e+01, 5.52174068e+01,\n",
       "       5.12246910e+01, 4.85934951e+01, 4.74169416e+01, 4.63319203e+01,\n",
       "       4.53745394e+01, 4.50087111e+01, 4.33124652e+01, 4.29543105e+01,\n",
       "       3.94856987e+01, 3.77294216e+01, 3.65851401e+01, 3.59210547e+01,\n",
       "       3.47776266e+01, 3.14918135e+01, 3.09827645e+01, 2.91743497e+01,\n",
       "       2.73357752e+01, 2.64239717e+01, 2.50356373e+01, 2.41458153e+01,\n",
       "       2.28528859e+01, 2.22735966e+01, 2.18173533e+01, 2.08511735e+01,\n",
       "       2.03865840e+01, 1.99296380e+01, 1.93875796e+01, 1.83611964e+01,\n",
       "       1.73615663e+01, 1.66115487e+01, 1.61439176e+01, 1.43351239e+01,\n",
       "       1.39401180e+01, 1.36109244e+01, 1.26610358e+01, 1.13070258e+01,\n",
       "       1.13285404e+01, 1.10504058e+01, 1.02810596e+01, 1.00131204e+01,\n",
       "       9.40479212e+00, 9.03059201e+00, 8.47379962e+00, 8.28217636e+00,\n",
       "       7.61933868e+00, 7.42682394e+00, 7.16422396e+00, 6.81346478e+00,\n",
       "       6.30317337e+00, 6.11572225e+00, 5.95915345e+00, 5.89585480e+00,\n",
       "       5.58211373e+00, 5.22809171e+00, 4.61313558e+00, 4.38792733e+00,\n",
       "       4.20670443e+00, 4.10746194e+00, 3.64969355e+00, 3.41576859e+00,\n",
       "       3.27546044e+00, 3.03886344e+00, 2.97987035e+00, 2.83660781e+00,\n",
       "       2.74893667e+00, 2.61597690e+00, 2.29610106e+00, 2.26482364e+00,\n",
       "       2.24747193e+00, 2.06643140e+00, 2.01763792e+00, 1.94195617e+00,\n",
       "       1.87088863e+00, 1.83180267e+00, 1.80105183e+00, 1.73232362e+00,\n",
       "       1.69579062e+00, 1.56557754e+00, 1.40588715e+00, 1.31993193e+00,\n",
       "       1.25585883e+00, 1.24461319e+00, 1.16452518e+00, 1.14416670e+00,\n",
       "       1.07698081e+00, 9.65318005e-01, 9.47495916e-01, 9.03711804e-01,\n",
       "       8.75756717e-01, 8.54283925e-01, 8.02184090e-01, 7.79036981e-01,\n",
       "       7.37122743e-01, 7.21037925e-01, 7.04693327e-01, 6.25036665e-01,\n",
       "       6.00845667e-01, 5.90058259e-01, 5.46579764e-01, 5.02251597e-01,\n",
       "       4.86590224e-01, 4.62791032e-01, 4.44257518e-01, 4.34413065e-01,\n",
       "       4.03487853e-01, 3.97640167e-01, 3.78773257e-01, 3.39293146e-01,\n",
       "       3.36560808e-01, 3.17514617e-01, 3.12845418e-01, 2.91549495e-01,\n",
       "       2.66930980e-01, 2.45797914e-01, 2.28980352e-01, 2.23521020e-01,\n",
       "       2.04836075e-01, 1.96216493e-01, 1.86111857e-01, 1.76985847e-01,\n",
       "       1.71611760e-01, 1.67382171e-01, 1.63946184e-01, 1.43726209e-01,\n",
       "       1.22260712e-01, 1.19887187e-01, 1.16540992e-01, 1.16918642e-01,\n",
       "       1.11868134e-01, 1.02603772e-01, 8.78915638e-02, 8.63646947e-02,\n",
       "       8.18516107e-02, 7.73802371e-02, 6.98782864e-02, 6.77174128e-02,\n",
       "       6.20465834e-02, 5.99423040e-02, 5.77270189e-02, 5.29738340e-02,\n",
       "       5.08825319e-02, 4.67202845e-02, 4.43213005e-02, 4.28251470e-02,\n",
       "       4.23315751e-02, 4.08364283e-02, 3.81305882e-02, 3.38113010e-02,\n",
       "       3.00917108e-02, 2.89650975e-02, 2.77888629e-02, 2.72970948e-02,\n",
       "       2.35464713e-02, 2.13142280e-02, 2.06650567e-02, 1.80477647e-02,\n",
       "       1.60864311e-02, 1.50914037e-02, 1.48003101e-02, 1.41713217e-02,\n",
       "       1.16616032e-02, 1.13634137e-02, 1.11364167e-02, 9.71782997e-03,\n",
       "       9.38696185e-03, 8.19480098e-03, 7.94934250e-03, 7.43815092e-03,\n",
       "       6.60378056e-03, 5.95342719e-03, 5.73808855e-03, 5.47907549e-03,\n",
       "       5.38438923e-03, 5.29172577e-03, 4.68038911e-03, 4.00506365e-03,\n",
       "       3.76327194e-03, 3.65508561e-03, 3.54751390e-03, 3.23575987e-03,\n",
       "       2.81866879e-03, 2.68420607e-03, 2.46226357e-03, 2.28585150e-03,\n",
       "       1.78862533e-03, 2.00042847e-03, 1.93255372e-03, 1.95185317e-03,\n",
       "       1.64802830e-03, 1.59218797e-03, 1.53217450e-03, 1.36450203e-03,\n",
       "       1.40445714e-03, 1.28636156e-03, 1.26521984e-03, 1.22929482e-03,\n",
       "       1.21990939e-03, 1.20511015e-03, 1.11541500e-03, 1.15412763e-03,\n",
       "       1.13803062e-03, 1.14240517e-03, 1.09551011e-03, 1.06858837e-03,\n",
       "       1.06169701e-03, 1.05730710e-03, 1.04535389e-03, 1.04082363e-03,\n",
       "       1.03199476e-03, 1.03387002e-03, 1.02078210e-03, 1.01197225e-03,\n",
       "       1.01079448e-03, 1.00884298e-03, 1.00759003e-03, 1.00630768e-03,\n",
       "       1.00552688e-03, 1.00542001e-03, 1.00470158e-03, 1.00358811e-03,\n",
       "       1.00269924e-03, 1.00225332e-03, 1.00145646e-03, 1.00143305e-03,\n",
       "       1.00109265e-03, 1.00089452e-03, 1.00066157e-03, 1.00044404e-03,\n",
       "       1.00039865e-03, 1.00033799e-03, 1.00030543e-03, 1.00025190e-03,\n",
       "       1.00019336e-03, 1.00015957e-03, 1.00014061e-03, 1.00011717e-03,\n",
       "       1.00010161e-03, 1.00008654e-03, 1.00007261e-03, 1.00007044e-03,\n",
       "       1.00006233e-03, 1.00004996e-03, 1.00004204e-03, 1.00003321e-03,\n",
       "       1.00003076e-03, 1.00002898e-03, 1.00002693e-03, 1.00002226e-03,\n",
       "       1.00002123e-03, 1.00001597e-03, 1.00001455e-03, 1.00001388e-03,\n",
       "       1.00001236e-03, 1.00000823e-03, 1.00000687e-03, 1.00000506e-03,\n",
       "       1.00000322e-03, 1.00000414e-03, 1.00000156e-03, 1.00000098e-03,\n",
       "       1.00000037e-03, 1.00000016e-03, 1.00000001e-03, 9.99999999e-04,\n",
       "       1.00000000e-03, 1.00000000e-03, 1.00000000e-03, 1.00000000e-03,\n",
       "       1.00000000e-03, 1.00000000e-03, 1.00000000e-03, 1.00000000e-03,\n",
       "       1.00000000e-03, 1.00000000e-03])"
      ]
     },
     "execution_count": 13,
     "metadata": {},
     "output_type": "execute_result"
    }
   ],
   "source": [
    "# check eigenvalues with prior\n",
    "llp, uup = np.linalg.eig(posterior_cov_inverse_prior)\n",
    "llp = np.real(llp)\n",
    "uup = np.real(uup)\n",
    "llp"
   ]
  },
  {
   "cell_type": "code",
   "execution_count": 14,
   "id": "dff03497",
   "metadata": {},
   "outputs": [],
   "source": [
    "# posterior covmat\n",
    "cov_posterior = uup @ np.diag(1./llp) @ uup.T"
   ]
  },
  {
   "cell_type": "code",
   "execution_count": 15,
   "id": "3ee0b896",
   "metadata": {},
   "outputs": [
    {
     "data": {
      "text/plain": [
       "array([[ 9.98615644e-01,  2.62050849e-02, -1.64089767e-04, ...,\n",
       "        -1.54461928e-07,  6.44740918e-07, -6.24362289e-07],\n",
       "       [ 2.62050862e-02,  9.54470685e-01,  5.78899103e-05, ...,\n",
       "        -7.78029067e-07,  7.07102107e-07, -5.68307108e-08],\n",
       "       [-1.64090002e-04,  5.78901863e-05,  1.00000520e+00, ...,\n",
       "        -1.98187328e-07, -3.22923842e-07,  3.28091879e-07],\n",
       "       ...,\n",
       "       [-1.54481160e-07, -7.78041155e-07, -1.98208898e-07, ...,\n",
       "         1.00000152e+00,  1.77363978e-06, -2.41942973e-06],\n",
       "       [ 6.44733186e-07,  7.07094152e-07, -3.22916197e-07, ...,\n",
       "         1.77360880e-06,  9.99998303e-01, -4.57702640e-08],\n",
       "       [-6.24381082e-07, -5.68389709e-08,  3.28100906e-07, ...,\n",
       "        -2.41943576e-06, -4.57554279e-08,  1.00000143e+00]])"
      ]
     },
     "execution_count": 15,
     "metadata": {},
     "output_type": "execute_result"
    }
   ],
   "source": [
    "posterior_cov_inverse_prior @ cov_posterior"
   ]
  },
  {
   "cell_type": "code",
   "execution_count": 16,
   "id": "e3865f77",
   "metadata": {},
   "outputs": [],
   "source": [
    "# compute central value posterior, Eq. 47\n",
    "v1 = u.T@y\n",
    "w = uup.T@fk.T@ u\n",
    "cv_posterior = uup @ np.diag(1./llp) @ w @ np.diag(1./l) @ v1"
   ]
  },
  {
   "cell_type": "code",
   "execution_count": 17,
   "id": "7c4c4e42",
   "metadata": {},
   "outputs": [
    {
     "data": {
      "text/plain": [
       "(450,)"
      ]
     },
     "execution_count": 17,
     "metadata": {},
     "output_type": "execute_result"
    }
   ],
   "source": [
    "cv_posterior.shape"
   ]
  },
  {
   "cell_type": "code",
   "execution_count": 18,
   "id": "e8027c1c",
   "metadata": {},
   "outputs": [],
   "source": [
    "# draw samples\n",
    "samples=np.random.multivariate_normal(cv_posterior, cov_posterior, size=1000)"
   ]
  },
  {
   "cell_type": "code",
   "execution_count": 19,
   "id": "e87d25ff",
   "metadata": {},
   "outputs": [
    {
     "data": {
      "text/plain": [
       "(1000, 450)"
      ]
     },
     "execution_count": 19,
     "metadata": {},
     "output_type": "execute_result"
    }
   ],
   "source": [
    "samples.shape"
   ]
  },
  {
   "cell_type": "code",
   "execution_count": 20,
   "id": "ad7773e0",
   "metadata": {},
   "outputs": [],
   "source": [
    "f = np.array([samples[:,i*50:(i+1)*50] for i in range(0,9)])\n",
    "flavour_cv = f.mean(axis=1)\n",
    "flavour_std = f.std(axis=1)\n",
    "    \n",
    "flavour_labels=['Sigma','g','V','V3','V8','V15','T3','T8','T15']"
   ]
  },
  {
   "cell_type": "code",
   "execution_count": 21,
   "id": "bbfa1fd3",
   "metadata": {},
   "outputs": [],
   "source": [
    "x = np.array([\n",
    "2.9699999989970886e-05,\n",
    "4.1246302562114121e-05,\n",
    "5.7279854290892427e-05,\n",
    "7.9543107354176351e-05,\n",
    "1.1045380151089824e-04,\n",
    "1.5336544212678162e-04,\n",
    "2.1292711419771039e-04,\n",
    "2.9557946342023174e-04,\n",
    "4.1023635832702205e-04,\n",
    "5.6921788919482173e-04,\n",
    "7.8952001737071158e-04,\n",
    "1.0945283774603655e-03,\n",
    "1.5163052361650959e-03,\n",
    "2.0985919006607802e-03,\n",
    "2.9006588501226953e-03,\n",
    "4.0020755222241709e-03,\n",
    "5.5083182403814438e-03,\n",
    "7.5568314649709480e-03,\n",
    "1.0322652614357851e-02,\n",
    "1.4022011128953883e-02,\n",
    "1.8911583033933310e-02,\n",
    "2.5280751342878608e-02,\n",
    "3.3434951223099259e-02,\n",
    "4.3670479005884652e-02,\n",
    "5.6244653828324422e-02,\n",
    "7.1348265292604018e-02,\n",
    "8.9087633304453406e-02,\n",
    "1.0948053859041228e-01,\n",
    "1.3246538983220960e-01,\n",
    "1.5791909766096124e-01,\n",
    "1.8567792651252230e-01,\n",
    "2.1555676356233966e-01,\n",
    "2.4736436150447358e-01,\n",
    "2.8091396862547191e-01,\n",
    "3.1602987267868177e-01,\n",
    "3.5255081809432581e-01,\n",
    "3.9033126797342838e-01,\n",
    "4.2924130793198417e-01,\n",
    "4.6916577293070166e-01,\n",
    "5.1000298771219632e-01,\n",
    "5.5166336656838788e-01,\n",
    "5.9406801715516011e-01,\n",
    "6.3714742681882575e-01,\n",
    "6.8084026849030499e-01,\n",
    "7.2509233853930255e-01,\n",
    "7.6985562506376237e-01,\n",
    "8.1508749786096646e-01,\n",
    "8.6075000810050684e-01,\n",
    "9.0680928480266942e-01,\n",
    "9.5323501557082535e-01,\n",
    "])"
   ]
  },
  {
   "cell_type": "code",
   "execution_count": 22,
   "id": "ae6057a7",
   "metadata": {},
   "outputs": [
    {
     "data": {
      "text/plain": [
       "(50,)"
      ]
     },
     "execution_count": 22,
     "metadata": {},
     "output_type": "execute_result"
    }
   ],
   "source": [
    "x.shape"
   ]
  },
  {
   "cell_type": "code",
   "execution_count": 23,
   "id": "2f5d865a",
   "metadata": {},
   "outputs": [
    {
     "data": {
      "text/plain": [
       "<matplotlib.legend.Legend at 0x7fcdc6be42e0>"
      ]
     },
     "execution_count": 23,
     "metadata": {},
     "output_type": "execute_result"
    },
    {
     "data": {
      "image/png": "[encoded data removed]",
      "text/plain": [
       "<Figure size 432x288 with 1 Axes>"
      ]
     },
     "metadata": {
      "needs_background": "light"
     },
     "output_type": "display_data"
    }
   ],
   "source": [
    "import matplotlib.pyplot as plt\n",
    "for i in range(0,9):\n",
    "    plt.fill_between(x, flavour_cv[i]-flavour_std[i], flavour_cv[i]+flavour_std[i], label=flavour_labels[i])\n",
    "plt.xscale('log')\n",
    "plt.legend()"
   ]
  },
  {
   "cell_type": "code",
   "execution_count": null,
   "id": "586dcd1c",
   "metadata": {},
   "outputs": [],
   "source": []
  }
 ],
 "metadata": {
  "kernelspec": {
   "display_name": "Python 3 (ipykernel)",
   "language": "python",
   "name": "python3"
  },
  "language_info": {
   "codemirror_mode": {
    "name": "ipython",
    "version": 3
   },
   "file_extension": ".py",
   "mimetype": "text/x-python",
   "name": "python",
   "nbconvert_exporter": "python",
   "pygments_lexer": "ipython3",
   "version": "3.8.12"
  }
 },
 "nbformat": 4,
 "nbformat_minor": 5
}
