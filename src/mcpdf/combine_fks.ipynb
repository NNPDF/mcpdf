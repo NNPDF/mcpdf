{
 "cells": [
  {
   "cell_type": "code",
   "execution_count": 1,
   "id": "8818508b",
   "metadata": {},
   "outputs": [],
   "source": [
    "from nnpdf import data, defaults, theory\n",
    "from inference import pdfs\n",
    "import numpy as np\n",
    "import matplotlib.pyplot as plt\n",
    "from eko import interpolation"
   ]
  },
  {
   "cell_type": "code",
   "execution_count": 2,
   "id": "e8796cd7",
   "metadata": {},
   "outputs": [],
   "source": [
    "# datasets I want to consider, random ordering\n",
    "datasets_I_want = [\n",
    "    #'HERACOMBNCEM',\n",
    "    #'HERACOMBNCEP460', \n",
    "    #'HERACOMBNCEP575',\n",
    "    #'HERACOMBNCEP820'\n",
    "    #'HERACOMBNCEP920',\n",
    "    #'HERACOMBCCEM',\n",
    "    #'HERACOMBCCEP',\n",
    "    #'HERACOMB_SIGMARED_B',\n",
    "    'HERACOMB_SIGMARED_C'\n",
    "]\n",
    "\n",
    "# create a list with the correct prdering (which is the one which would be automatically used\n",
    "# when building the FK table containing all the datasets)\n",
    "datasets_list = []\n",
    "for ds in data.data():\n",
    "    ds_spec = {}\n",
    "    if ds.setname in datasets_I_want:\n",
    "        ds_spec['dataset'] = ds.setname\n",
    "        datasets_list.append(ds_spec)\n",
    "\n",
    "# load data and covmat for all the dataset\n",
    "y = data.values(fit=defaults.BASELINE_PDF, dataset_inputs=datasets_list)\n",
    "cov = data.covmat(fit=defaults.BASELINE_PDF, dataset_inputs=datasets_list)"
   ]
  },
  {
   "cell_type": "code",
   "execution_count": 3,
   "id": "84aa0c65",
   "metadata": {},
   "outputs": [
    {
     "data": {
      "text/plain": [
       "[{'dataset': 'HERACOMB_SIGMARED_C'}]"
      ]
     },
     "execution_count": 3,
     "metadata": {},
     "output_type": "execute_result"
    }
   ],
   "source": [
    "datasets_list"
   ]
  },
  {
   "cell_type": "code",
   "execution_count": 4,
   "id": "5ff0b52f",
   "metadata": {},
   "outputs": [
    {
     "data": {
      "text/plain": [
       "array([0.31613 , 0.29041 , 0.24098 , 0.18134 , 0.14761 , 0.10103 ,\n",
       "       0.31977 , 0.29049 , 0.25539 , 0.20163 , 0.163   , 0.11367 ,\n",
       "       0.38846 , 0.37557 , 0.2807  , 0.21897 , 0.20149 , 0.15534 ,\n",
       "       0.094026, 0.32542 , 0.32893 , 0.25762 , 0.1925  , 0.1596  ,\n",
       "       0.094583, 0.37661 , 0.22743 , 0.21729 , 0.15186 , 0.070217,\n",
       "       0.23889 , 0.17035 , 0.223   , 0.10646 , 0.2026  , 0.088456,\n",
       "       0.060261])"
      ]
     },
     "execution_count": 4,
     "metadata": {},
     "output_type": "execute_result"
    }
   ],
   "source": [
    "y"
   ]
  },
  {
   "cell_type": "code",
   "execution_count": 5,
   "id": "d7e8d0fd",
   "metadata": {},
   "outputs": [],
   "source": [
    "fks = theory.theory(dataset_inputs=datasets_I_want)"
   ]
  },
  {
   "cell_type": "code",
   "execution_count": 6,
   "id": "22d71d6a",
   "metadata": {},
   "outputs": [
    {
     "data": {
      "text/plain": [
       "'HERACOMB_SIGMARED_C'"
      ]
     },
     "execution_count": 6,
     "metadata": {},
     "output_type": "execute_result"
    }
   ],
   "source": [
    "#fks[0].elements[0].\n",
    "fks[0].name"
   ]
  },
  {
   "cell_type": "code",
   "execution_count": 7,
   "id": "365c39bc",
   "metadata": {},
   "outputs": [
    {
     "data": {
      "text/plain": [
       "array([2.97000000e-05, 4.12463026e-05, 5.72798543e-05, 7.95431074e-05,\n",
       "       1.10453802e-04, 1.53365442e-04, 2.12927114e-04, 2.95579463e-04,\n",
       "       4.10236358e-04, 5.69217889e-04, 7.89520017e-04, 1.09452838e-03,\n",
       "       1.51630524e-03, 2.09859190e-03, 2.90065885e-03, 4.00207552e-03,\n",
       "       5.50831824e-03, 7.55683146e-03, 1.03226526e-02, 1.40220111e-02,\n",
       "       1.89115830e-02, 2.52807513e-02, 3.34349512e-02, 4.36704790e-02,\n",
       "       5.62446538e-02, 7.13482653e-02, 8.90876333e-02, 1.09480539e-01,\n",
       "       1.32465390e-01, 1.57919098e-01, 1.85677927e-01, 2.15556764e-01,\n",
       "       2.47364362e-01, 2.80913969e-01, 3.16029873e-01, 3.52550818e-01,\n",
       "       3.90331268e-01, 4.29241308e-01, 4.69165773e-01, 5.10002988e-01,\n",
       "       5.51663367e-01, 5.94068017e-01, 6.37147427e-01, 6.80840268e-01,\n",
       "       7.25092339e-01, 7.69855625e-01, 8.15087498e-01, 8.60750008e-01,\n",
       "       9.06809285e-01, 9.53235016e-01])"
      ]
     },
     "execution_count": 7,
     "metadata": {},
     "output_type": "execute_result"
    }
   ],
   "source": [
    "fks[0].elements[0].xgrid"
   ]
  },
  {
   "cell_type": "code",
   "execution_count": 8,
   "id": "8572809f",
   "metadata": {},
   "outputs": [],
   "source": [
    "#keep original grid (test for one dataset)\n",
    "#newgrid=fks[0].elements[0].xgrid\n",
    "#nxgrid=newgrid.size\n",
    "#newgrid=np.concatenate([np.geomspace(1e-6, 0.1, 50), np.linspace(0.1, 1.0, 50)])\n",
    "newgrid=np.geomspace(1e-6,1.,50)\n",
    "nxgrid=newgrid.size"
   ]
  },
  {
   "cell_type": "code",
   "execution_count": 9,
   "id": "ee21d88c",
   "metadata": {},
   "outputs": [],
   "source": [
    "# look at the flavors of loaded fk tables and build the corresponding boolean mask\n",
    "# assume some grid dimension for this\n",
    "\n",
    "# possible flavors appearing in the FK tables for DIS data\n",
    "flavs = [1,2,3,4,5,6,9,10,11]\n",
    "#nxgrid = 50\n",
    "mask_list=[]\n",
    "\n",
    "for fk in fks:\n",
    "    mask = [flav in fk.elements[0].flavors for flav in flavs for k in range(0,nxgrid)]\n",
    "    mask_list.append(mask)"
   ]
  },
  {
   "cell_type": "code",
   "execution_count": 10,
   "id": "858d3fcd",
   "metadata": {},
   "outputs": [],
   "source": [
    "#mask_list"
   ]
  },
  {
   "cell_type": "code",
   "execution_count": 11,
   "id": "6c4a8809",
   "metadata": {},
   "outputs": [],
   "source": [
    "# now build the corresponding matrices\n",
    "matrix_list = []\n",
    "for m in mask_list:\n",
    "    matrix = []\n",
    "    for pos, i in enumerate(m):\n",
    "        if i:\n",
    "            tmp = np.zeros(len(flavs)*nxgrid)\n",
    "            tmp[pos]=1.\n",
    "            matrix.append(tmp)\n",
    "    \n",
    "    matrix_list.append(np.array(matrix))"
   ]
  },
  {
   "cell_type": "code",
   "execution_count": 12,
   "id": "25d51523",
   "metadata": {},
   "outputs": [],
   "source": [
    "#np.testing.assert_equal(matrix_list[0],np.identity(450))"
   ]
  },
  {
   "cell_type": "code",
   "execution_count": 13,
   "id": "9be8b1d5",
   "metadata": {},
   "outputs": [],
   "source": [
    "# reshape to common grid\n",
    "for fk in fks:\n",
    "    fk.x_reshape(newgrid)"
   ]
  },
  {
   "cell_type": "code",
   "execution_count": 14,
   "id": "f0778f01",
   "metadata": {},
   "outputs": [],
   "source": [
    "# reshape the fk tables to matrices \n",
    "fk_bare_list = []\n",
    "for fk in fks:\n",
    "    ndata, nbasis, nx = fk.elements[0].table.shape\n",
    "    fk_bare_list.append(np.reshape(fk.elements[0].table,(ndata,nbasis*nx)))"
   ]
  },
  {
   "cell_type": "code",
   "execution_count": 15,
   "id": "18e74431",
   "metadata": {},
   "outputs": [],
   "source": [
    "# multiply fk for the matrix\n",
    "reshaped_fk = []\n",
    "\n",
    "for fk_bare, matrix in zip(fk_bare_list, matrix_list):\n",
    "    reshaped_fk.append(fk_bare @ matrix)"
   ]
  },
  {
   "cell_type": "code",
   "execution_count": 16,
   "id": "c73ae7a9",
   "metadata": {},
   "outputs": [
    {
     "data": {
      "text/plain": [
       "(37, 450)"
      ]
     },
     "execution_count": 16,
     "metadata": {},
     "output_type": "execute_result"
    }
   ],
   "source": [
    "fk_bare = np.concatenate([fk for fk in reshaped_fk], axis=0)\n",
    "fk_bare.shape"
   ]
  },
  {
   "cell_type": "code",
   "execution_count": 17,
   "id": "4572b10d",
   "metadata": {},
   "outputs": [],
   "source": [
    "fk_grid=newgrid"
   ]
  },
  {
   "cell_type": "code",
   "execution_count": 18,
   "id": "055f670d",
   "metadata": {},
   "outputs": [],
   "source": [
    "# flavour basis pdfs evaluated on the FK xgrid\n",
    "xg=pdfs.xf(21, \"NNPDF40_nnlo_as_01180\", 0, fk_grid, 1.65)\n",
    "xu=pdfs.xf(2, \"NNPDF40_nnlo_as_01180\", 0, fk_grid, 1.65)\n",
    "xd=pdfs.xf(1, \"NNPDF40_nnlo_as_01180\", 0, fk_grid, 1.65)\n",
    "xs=pdfs.xf(3, \"NNPDF40_nnlo_as_01180\", 0, fk_grid, 1.65)\n",
    "xc=pdfs.xf(4, \"NNPDF40_nnlo_as_01180\", 0, fk_grid, 1.65)\n",
    "xubar=pdfs.xf(-2, \"NNPDF40_nnlo_as_01180\", 0, fk_grid, 1.65)\n",
    "xdbar=pdfs.xf(-1, \"NNPDF40_nnlo_as_01180\", 0, fk_grid, 1.65)\n",
    "xsbar=pdfs.xf(-3, \"NNPDF40_nnlo_as_01180\", 0, fk_grid, 1.65)\n",
    "xcbar=pdfs.xf(-4, \"NNPDF40_nnlo_as_01180\", 0, fk_grid, 1.65)\n",
    "\n",
    "pdf_flavs = np.asarray([xg,xu,xd,xs,xc,xubar,xdbar,xsbar,xcbar])"
   ]
  },
  {
   "cell_type": "code",
   "execution_count": 19,
   "id": "2a7bc1d1",
   "metadata": {},
   "outputs": [
    {
     "data": {
      "text/plain": [
       "(9, 50)"
      ]
     },
     "execution_count": 19,
     "metadata": {},
     "output_type": "execute_result"
    }
   ],
   "source": [
    "pdf_flavs.shape"
   ]
  },
  {
   "cell_type": "code",
   "execution_count": 20,
   "id": "89f7a90c",
   "metadata": {},
   "outputs": [],
   "source": [
    "pdf_evol=pdfs.rot_to_evolution@pdf_flavs"
   ]
  },
  {
   "cell_type": "code",
   "execution_count": 21,
   "id": "dd72d168",
   "metadata": {},
   "outputs": [],
   "source": [
    "xSigma=pdf_evol[0,:]\n",
    "xg=pdf_evol[1,:]\n",
    "xV=pdf_evol[2,:]\n",
    "xV3=pdf_evol[3,:]\n",
    "xV8=pdf_evol[4,:] \n",
    "xV15=pdf_evol[5,:]\n",
    "xT3=pdf_evol[6,:]\n",
    "xT8=pdf_evol[7,:]\n",
    "xT15=pdf_evol[8,:]"
   ]
  },
  {
   "cell_type": "code",
   "execution_count": 22,
   "id": "23e1053b",
   "metadata": {},
   "outputs": [],
   "source": [
    "def plot_pdfs_cv(\n",
    "    cvs,\n",
    "    labels,\n",
    "    grid\n",
    "):\n",
    "\n",
    "    fig, (ax1, ax2) = plt.subplots(1, 2, figsize=(15, 4))  # 1 row, 2 columns\n",
    "    for cv, label in zip(cvs, labels):\n",
    "\n",
    "        ax1.plot(grid, cv, \"-\", label=label)\n",
    "        ax2.plot(grid, cv, \"-\", label=label)\n",
    "\n",
    "    ax1.set_xscale(\"linear\")\n",
    "    ax2.set_xscale(\"log\")\n",
    "    #ax1.set_ylim(ylinear)\n",
    "    #ax2.set_ylim(ylog)\n",
    "\n",
    "    ax1.legend()\n",
    "    ax2.legend()\n",
    "    plt.tight_layout()\n",
    "    plt.show()"
   ]
  },
  {
   "cell_type": "code",
   "execution_count": 23,
   "id": "9cb536e8",
   "metadata": {},
   "outputs": [
    {
     "data": {
      "image/png": "[encoded data removed]",
      "text/plain": [
       "<Figure size 1500x400 with 2 Axes>"
      ]
     },
     "metadata": {},
     "output_type": "display_data"
    }
   ],
   "source": [
    "plot_pdfs_cv([xg,xSigma,xV,xV3,xV8,xV15,xT3,xT8,xT15],[\"g\",\"Sigma\",\"V\",\"V3\",\"V8\",\"V15\",\"T3\",\"T8\",\"T15\"],fk_grid)"
   ]
  },
  {
   "cell_type": "code",
   "execution_count": 24,
   "id": "a4bd9e35",
   "metadata": {},
   "outputs": [],
   "source": [
    "f=np.concatenate([xSigma,xg,xV,xV3,xV8,xV15,xT3,xT8,xT15])"
   ]
  },
  {
   "cell_type": "code",
   "execution_count": 25,
   "id": "720838ba",
   "metadata": {},
   "outputs": [
    {
     "data": {
      "text/plain": [
       "(450,)"
      ]
     },
     "execution_count": 25,
     "metadata": {},
     "output_type": "execute_result"
    }
   ],
   "source": [
    "f.shape"
   ]
  },
  {
   "cell_type": "code",
   "execution_count": 26,
   "id": "7a4d54e4",
   "metadata": {},
   "outputs": [
    {
     "data": {
      "text/plain": [
       "(37, 450)"
      ]
     },
     "execution_count": 26,
     "metadata": {},
     "output_type": "execute_result"
    }
   ],
   "source": [
    "fk_bare.shape"
   ]
  },
  {
   "cell_type": "code",
   "execution_count": 27,
   "id": "43377a46",
   "metadata": {},
   "outputs": [],
   "source": [
    "yth=fk_bare@f"
   ]
  },
  {
   "cell_type": "code",
   "execution_count": 28,
   "id": "53ca280c",
   "metadata": {},
   "outputs": [
    {
     "data": {
      "text/plain": [
       "array([0.27421451, 0.25034094, 0.21609374, 0.18032335, 0.13673181,\n",
       "       0.09518202, 0.29106915, 0.26306709, 0.22284892, 0.18021   ,\n",
       "       0.13527673, 0.0978706 , 0.31128271, 0.28601126, 0.2323176 ,\n",
       "       0.18349621, 0.15934451, 0.11812423, 0.09310508, 0.29078159,\n",
       "       0.25297349, 0.203683  , 0.16068592, 0.12053872, 0.07569599,\n",
       "       0.29570578, 0.24592589, 0.18561077, 0.12644486, 0.05821807,\n",
       "       0.21661449, 0.11595337, 0.15377919, 0.07106426, 0.13493924,\n",
       "       0.05897014, 0.03724316])"
      ]
     },
     "execution_count": 28,
     "metadata": {},
     "output_type": "execute_result"
    }
   ],
   "source": [
    "yth"
   ]
  },
  {
   "cell_type": "code",
   "execution_count": 29,
   "id": "4a477f01",
   "metadata": {},
   "outputs": [
    {
     "data": {
      "text/plain": [
       "array([0.31613 , 0.29041 , 0.24098 , 0.18134 , 0.14761 , 0.10103 ,\n",
       "       0.31977 , 0.29049 , 0.25539 , 0.20163 , 0.163   , 0.11367 ,\n",
       "       0.38846 , 0.37557 , 0.2807  , 0.21897 , 0.20149 , 0.15534 ,\n",
       "       0.094026, 0.32542 , 0.32893 , 0.25762 , 0.1925  , 0.1596  ,\n",
       "       0.094583, 0.37661 , 0.22743 , 0.21729 , 0.15186 , 0.070217,\n",
       "       0.23889 , 0.17035 , 0.223   , 0.10646 , 0.2026  , 0.088456,\n",
       "       0.060261])"
      ]
     },
     "execution_count": 29,
     "metadata": {},
     "output_type": "execute_result"
    }
   ],
   "source": [
    "y"
   ]
  },
  {
   "cell_type": "code",
   "execution_count": 30,
   "id": "17a794d9",
   "metadata": {},
   "outputs": [
    {
     "data": {
      "text/plain": [
       "2.929897400924345"
      ]
     },
     "execution_count": 30,
     "metadata": {},
     "output_type": "execute_result"
    }
   ],
   "source": [
    "l, u = np.linalg.eigh(cov)  # usa np.linalg.eigh\n",
    "cov_inv = u @ np.diag(1.0 / l) @ u.T\n",
    "((y-yth)@cov_inv@(y-yth).T)/y.size"
   ]
  },
  {
   "cell_type": "code",
   "execution_count": 31,
   "id": "e84368a2",
   "metadata": {},
   "outputs": [
    {
     "data": {
      "image/png": "[encoded data removed]",
      "text/plain": [
       "<Figure size 640x480 with 1 Axes>"
      ]
     },
     "metadata": {},
     "output_type": "display_data"
    }
   ],
   "source": [
    "points=np.arange(y.size)\n",
    "sigma=np.sqrt(np.diagonal(cov))/y\n",
    "plt.errorbar(points,y/y,sigma)\n",
    "plt.scatter(points,yth/y)\n",
    "plt.ylim([-5,5])\n",
    "plt.show()"
   ]
  },
  {
   "cell_type": "code",
   "execution_count": 32,
   "id": "811e5a7b",
   "metadata": {},
   "outputs": [
    {
     "data": {
      "text/plain": [
       "(37, 450)"
      ]
     },
     "execution_count": 32,
     "metadata": {},
     "output_type": "execute_result"
    }
   ],
   "source": [
    "# now repeat this but considering as basics object to convolute with the FK xS, xg, V, V3, V8, V15, T3, T8, T15\n",
    "\n",
    "# look at the flavors of loaded fk tables and build the corresponding boolean mask\n",
    "# assume some grid dimension for this\n",
    "\n",
    "# possible flavors appearing in the FK tables for DIS data\n",
    "flavs = [1,2,3,4,5,6,9,10,11]\n",
    "#nxgrid = 50\n",
    "mask_list=[]\n",
    "\n",
    "for fk in fks:\n",
    "    mask = [flav in fk.elements[0].flavors for flav in flavs for k in range(0,nxgrid)]\n",
    "    mask_list.append(mask)\n",
    "    \n",
    "# now build the corresponding matrices\n",
    "matrix_list = []\n",
    "for m in mask_list:\n",
    "    matrix = []\n",
    "    for pos, i in enumerate(m):\n",
    "        if i:\n",
    "            tmp = np.zeros(len(flavs)*nxgrid)\n",
    "            tmp[pos]=1.\n",
    "            matrix.append(tmp)\n",
    "    \n",
    "    matrix_list.append(np.array(matrix))\n",
    "\n",
    "# reshape to common grid\n",
    "for fk in fks:\n",
    "    fk.x_reshape(newgrid)\n",
    "    \n",
    "# reshape the fk tables to matrices \n",
    "fk_bare_list = []\n",
    "for fk in fks:\n",
    "    ndata, nbasis, nx = fk.elements[0].table.shape\n",
    "    fk_bare_list.append(np.reshape(fk.elements[0].table,(ndata,nbasis*nx)))\n",
    "\n",
    "# multiply fk for the matrix\n",
    "reshaped_fk = []\n",
    "\n",
    "for fk_bare, matrix in zip(fk_bare_list, matrix_list):\n",
    "    reshaped_fk.append(fk_bare @ matrix)\n",
    "    \n",
    "fk_bare = np.concatenate([fk for fk in reshaped_fk], axis=0)\n",
    "fk_bare.shape"
   ]
  },
  {
   "cell_type": "code",
   "execution_count": 33,
   "id": "f3f2ec5e",
   "metadata": {},
   "outputs": [
    {
     "data": {
      "text/plain": [
       "array([0.27421451, 0.25034094, 0.21609374, 0.18032335, 0.13673181,\n",
       "       0.09518202, 0.29106915, 0.26306709, 0.22284892, 0.18021   ,\n",
       "       0.13527673, 0.0978706 , 0.31128271, 0.28601126, 0.2323176 ,\n",
       "       0.18349621, 0.15934451, 0.11812423, 0.09310508, 0.29078159,\n",
       "       0.25297349, 0.203683  , 0.16068592, 0.12053872, 0.07569599,\n",
       "       0.29570578, 0.24592589, 0.18561077, 0.12644486, 0.05821807,\n",
       "       0.21661449, 0.11595337, 0.15377919, 0.07106426, 0.13493924,\n",
       "       0.05897014, 0.03724316])"
      ]
     },
     "execution_count": 33,
     "metadata": {},
     "output_type": "execute_result"
    }
   ],
   "source": [
    "fk_bare @ f"
   ]
  },
  {
   "cell_type": "code",
   "execution_count": 34,
   "id": "a63dba94",
   "metadata": {},
   "outputs": [],
   "source": [
    "big_xgrid = np.concatenate([newgrid for i in range(2,9)])"
   ]
  },
  {
   "cell_type": "code",
   "execution_count": 35,
   "id": "c25e1e94",
   "metadata": {},
   "outputs": [
    {
     "data": {
      "text/plain": [
       "(350,)"
      ]
     },
     "execution_count": 35,
     "metadata": {},
     "output_type": "execute_result"
    }
   ],
   "source": [
    "big_xgrid.shape"
   ]
  },
  {
   "cell_type": "code",
   "execution_count": 36,
   "id": "d98ee402",
   "metadata": {},
   "outputs": [],
   "source": [
    "new_fk_ = np.multiply(fk_bare[:,2*nxgrid:],big_xgrid)"
   ]
  },
  {
   "cell_type": "code",
   "execution_count": 37,
   "id": "c56f650d",
   "metadata": {},
   "outputs": [
    {
     "data": {
      "text/plain": [
       "array([0.27421451, 0.25034094, 0.21609374, 0.18032335, 0.13673181,\n",
       "       0.09518202, 0.29106915, 0.26306709, 0.22284892, 0.18021   ,\n",
       "       0.13527673, 0.0978706 , 0.31128271, 0.28601126, 0.2323176 ,\n",
       "       0.18349621, 0.15934451, 0.11812423, 0.09310508, 0.29078159,\n",
       "       0.25297349, 0.203683  , 0.16068592, 0.12053872, 0.07569599,\n",
       "       0.29570578, 0.24592589, 0.18561077, 0.12644486, 0.05821807,\n",
       "       0.21661449, 0.11595337, 0.15377919, 0.07106426, 0.13493924,\n",
       "       0.05897014, 0.03724316])"
      ]
     },
     "execution_count": 37,
     "metadata": {},
     "output_type": "execute_result"
    }
   ],
   "source": [
    "fk_bare @ f"
   ]
  },
  {
   "cell_type": "code",
   "execution_count": 38,
   "id": "db27bcaf",
   "metadata": {},
   "outputs": [],
   "source": [
    "new_fk = np.concatenate([fk_bare[:,:2*nxgrid],new_fk_],axis=1)"
   ]
  },
  {
   "cell_type": "code",
   "execution_count": 39,
   "id": "14aae7da",
   "metadata": {},
   "outputs": [
    {
     "data": {
      "text/plain": [
       "(450,)"
      ]
     },
     "execution_count": 39,
     "metadata": {},
     "output_type": "execute_result"
    }
   ],
   "source": [
    "f.shape"
   ]
  },
  {
   "cell_type": "code",
   "execution_count": 40,
   "id": "dcb7b082",
   "metadata": {},
   "outputs": [],
   "source": [
    "new_f_ = np.divide(f[2*nxgrid:],big_xgrid)"
   ]
  },
  {
   "cell_type": "code",
   "execution_count": 41,
   "id": "54c2f920",
   "metadata": {},
   "outputs": [
    {
     "data": {
      "text/plain": [
       "(350,)"
      ]
     },
     "execution_count": 41,
     "metadata": {},
     "output_type": "execute_result"
    }
   ],
   "source": [
    "new_f_.shape"
   ]
  },
  {
   "cell_type": "code",
   "execution_count": 42,
   "id": "a994cce9",
   "metadata": {},
   "outputs": [],
   "source": [
    "new_f = np.concatenate([f[:2*nxgrid],new_f_])"
   ]
  },
  {
   "cell_type": "code",
   "execution_count": 43,
   "id": "c86b72a6",
   "metadata": {},
   "outputs": [
    {
     "data": {
      "text/plain": [
       "(450,)"
      ]
     },
     "execution_count": 43,
     "metadata": {},
     "output_type": "execute_result"
    }
   ],
   "source": [
    "new_f.shape"
   ]
  },
  {
   "cell_type": "code",
   "execution_count": 44,
   "id": "daf18428",
   "metadata": {},
   "outputs": [
    {
     "data": {
      "text/plain": [
       "array([0.27421451, 0.25034094, 0.21609374, 0.18032335, 0.13673181,\n",
       "       0.09518202, 0.29106915, 0.26306709, 0.22284892, 0.18021   ,\n",
       "       0.13527673, 0.0978706 , 0.31128271, 0.28601126, 0.2323176 ,\n",
       "       0.18349621, 0.15934451, 0.11812423, 0.09310508, 0.29078159,\n",
       "       0.25297349, 0.203683  , 0.16068592, 0.12053872, 0.07569599,\n",
       "       0.29570578, 0.24592589, 0.18561077, 0.12644486, 0.05821807,\n",
       "       0.21661449, 0.11595337, 0.15377919, 0.07106426, 0.13493924,\n",
       "       0.05897014, 0.03724316])"
      ]
     },
     "execution_count": 44,
     "metadata": {},
     "output_type": "execute_result"
    }
   ],
   "source": [
    "fk_bare @ f"
   ]
  },
  {
   "cell_type": "code",
   "execution_count": 45,
   "id": "22886a31",
   "metadata": {},
   "outputs": [
    {
     "data": {
      "text/plain": [
       "array([0.27421451, 0.25034094, 0.21609374, 0.18032335, 0.13673181,\n",
       "       0.09518202, 0.29106915, 0.26306709, 0.22284892, 0.18021   ,\n",
       "       0.13527673, 0.0978706 , 0.31128271, 0.28601126, 0.2323176 ,\n",
       "       0.18349621, 0.15934451, 0.11812423, 0.09310508, 0.29078159,\n",
       "       0.25297349, 0.203683  , 0.16068592, 0.12053872, 0.07569599,\n",
       "       0.29570578, 0.24592589, 0.18561077, 0.12644486, 0.05821807,\n",
       "       0.21661449, 0.11595337, 0.15377919, 0.07106426, 0.13493924,\n",
       "       0.05897014, 0.03724316])"
      ]
     },
     "execution_count": 45,
     "metadata": {},
     "output_type": "execute_result"
    }
   ],
   "source": [
    "new_fk @ new_f"
   ]
  },
  {
   "cell_type": "code",
   "execution_count": 46,
   "id": "7a8b14f5",
   "metadata": {},
   "outputs": [],
   "source": [
    "def get_gp_pdfs_(pdf_set, pdf_member, x, mu):\n",
    "    \"\"\"Returns PDFs which are actually represented by a GP, namely\n",
    "    xSigma, xg, V, V3, V8, V15, T3, T9, T15\"\"\"\n",
    "\n",
    "    def get_flavor_xpdfs(pdf_set, pdf_member, x, mu):\n",
    "        pdf_flavs = []\n",
    "        for flav in flavors:\n",
    "            pdf_flavs.append(xf(flav, pdf_set, pdf_member, x, 1.65))\n",
    "        return np.asarray(pdf_flavs)\n",
    "\n",
    "    xpdf_flav = get_flavor_xpdfs(pdf_set, pdf_member, x, mu)\n",
    "    xpdf_evol = rot_to_evolution @ xpdf_flav\n",
    "    xS_xg = xpdf_evol[:2,:]\n",
    "    V_V3_V8_V15_T3_T8_T15 = np.divide(xpdf_evol[2:,:], x)\n",
    "    tmp = np.concatenate([xS_xg, V_V3_V8_V15_T3_T8_T15])\n",
    "\n",
    "    gp_pdfs = np.reshape(tmp, (x.size * len(flavors)))\n",
    "    return gp_pdfs"
   ]
  },
  {
   "cell_type": "code",
   "execution_count": 48,
   "id": "17afbd4f",
   "metadata": {},
   "outputs": [],
   "source": [
    "f_gp = pdfs.get_gp_pdfs(\"NNPDF40_nnlo_as_01180\", 0, fk_grid, 1.65)"
   ]
  },
  {
   "cell_type": "code",
   "execution_count": 49,
   "id": "b31ad7be",
   "metadata": {},
   "outputs": [
    {
     "data": {
      "text/plain": [
       "(450,)"
      ]
     },
     "execution_count": 49,
     "metadata": {},
     "output_type": "execute_result"
    }
   ],
   "source": [
    "f_gp.shape"
   ]
  },
  {
   "cell_type": "code",
   "execution_count": 62,
   "id": "d2003318",
   "metadata": {},
   "outputs": [
    {
     "data": {
      "text/plain": [
       "array([ 5.10230644e-03,  5.65429344e-03,  6.26800652e-03,  6.95061283e-03,\n",
       "        7.71002976e-03,  8.55498447e-03,  9.49512089e-03,  1.05413484e-02,\n",
       "        1.17055130e-02,  1.30008296e-02,  1.44420735e-02,  1.60455605e-02,\n",
       "        1.78294807e-02,  1.98146321e-02,  2.20244481e-02,  2.44860732e-02,\n",
       "        2.72305135e-02,  3.02931749e-02,  3.37132769e-02,  3.75340855e-02,\n",
       "        4.18028261e-02,  4.65713267e-02,  5.18981504e-02,  5.78538470e-02,\n",
       "        6.45307317e-02,  7.20600046e-02,  8.06383225e-02,  9.05641993e-02,\n",
       "        1.02271824e-01,  1.16395919e-01,  1.33839397e-01,  1.55843103e-01,\n",
       "        1.84007777e-01,  2.20171612e-01,  2.66196401e-01,  3.23220702e-01,\n",
       "        3.91019250e-01,  4.68300428e-01,  5.53391199e-01,  6.44802708e-01,\n",
       "        7.40951026e-01,  8.38738988e-01,  9.29881695e-01,  9.93877972e-01,\n",
       "        9.90062146e-01,  8.60592940e-01,  5.77090653e-01,  2.39941626e-01,\n",
       "        3.13053959e-02, -3.44107135e-22])"
      ]
     },
     "execution_count": 62,
     "metadata": {},
     "output_type": "execute_result"
    }
   ],
   "source": [
    "np.multiply(f_gp[100:150],fk_grid)"
   ]
  },
  {
   "cell_type": "code",
   "execution_count": 57,
   "id": "e59f8629",
   "metadata": {},
   "outputs": [
    {
     "data": {
      "text/plain": [
       "array([ 5.10230644e-03,  5.65429344e-03,  6.26800652e-03,  6.95061283e-03,\n",
       "        7.71002976e-03,  8.55498447e-03,  9.49512089e-03,  1.05413484e-02,\n",
       "        1.17055130e-02,  1.30008296e-02,  1.44420735e-02,  1.60455605e-02,\n",
       "        1.78294807e-02,  1.98146321e-02,  2.20244481e-02,  2.44860732e-02,\n",
       "        2.72305135e-02,  3.02931749e-02,  3.37132769e-02,  3.75340855e-02,\n",
       "        4.18028261e-02,  4.65713267e-02,  5.18981504e-02,  5.78538470e-02,\n",
       "        6.45307317e-02,  7.20600046e-02,  8.06383225e-02,  9.05641993e-02,\n",
       "        1.02271824e-01,  1.16395919e-01,  1.33839397e-01,  1.55843103e-01,\n",
       "        1.84007777e-01,  2.20171612e-01,  2.66196401e-01,  3.23220702e-01,\n",
       "        3.91019250e-01,  4.68300428e-01,  5.53391199e-01,  6.44802708e-01,\n",
       "        7.40951026e-01,  8.38738988e-01,  9.29881695e-01,  9.93877972e-01,\n",
       "        9.90062146e-01,  8.60592940e-01,  5.77090653e-01,  2.39941626e-01,\n",
       "        3.13053959e-02, -3.44107135e-22])"
      ]
     },
     "execution_count": 57,
     "metadata": {},
     "output_type": "execute_result"
    }
   ],
   "source": [
    "f[100:150]"
   ]
  },
  {
   "cell_type": "code",
   "execution_count": null,
   "id": "a558f9d3",
   "metadata": {},
   "outputs": [],
   "source": []
  }
 ],
 "metadata": {
  "kernelspec": {
   "display_name": "Python 3 (ipykernel)",
   "language": "python",
   "name": "python3"
  },
  "language_info": {
   "codemirror_mode": {
    "name": "ipython",
    "version": 3
   },
   "file_extension": ".py",
   "mimetype": "text/x-python",
   "name": "python",
   "nbconvert_exporter": "python",
   "pygments_lexer": "ipython3",
   "version": "3.9.16"
  }
 },
 "nbformat": 4,
 "nbformat_minor": 5
}
