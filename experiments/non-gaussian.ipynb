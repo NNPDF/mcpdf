{
 "cells": [
  {
   "cell_type": "code",
   "execution_count": 9,
   "id": "e447f826-b8cb-4e17-af27-5e19edd7b265",
   "metadata": {},
   "outputs": [],
   "source": [
    "import matplotlib.pyplot as plt\n",
    "import numpy as np\n",
    "import pymc3 as pm\n",
    "\n",
    "%matplotlib inline"
   ]
  },
  {
   "cell_type": "code",
   "execution_count": 18,
   "id": "4dcf4b24-14ff-4c18-baef-a1eaa2526fbf",
   "metadata": {},
   "outputs": [],
   "source": [
    "X = np.random.normal(size=100)\n",
    "with pm.Model() as model:\n",
    "    sigma = pm.Normal(\"sigma\", 100, 10)\n",
    "    x = pm.Normal(\"x\", 0, sigma, observed=X)"
   ]
  },
  {
   "cell_type": "code",
   "execution_count": 16,
   "id": "02a9b991-fff5-4290-a98c-e689af08cf82",
   "metadata": {},
   "outputs": [
    {
     "name": "stderr",
     "output_type": "stream",
     "text": [
      "/home/alessandro/Projects/N3PDF/mcpdf/env/lib/python3.9/site-packages/deprecat/classic.py:215: FutureWarning: In v4.0, pm.sample will return an `arviz.InferenceData` object instead of a `MultiTrace` by default. You can pass return_inferencedata=True or return_inferencedata=False to be safe and silence this warning.\n",
      "  return wrapped_(*args_, **kwargs_)\n",
      "Auto-assigning NUTS sampler...\n",
      "Initializing NUTS using jitter+adapt_diag...\n",
      "Multiprocess sampling (2 chains in 2 jobs)\n",
      "NUTS: [sigma]\n"
     ]
    },
    {
     "data": {
      "text/html": [
       "\n",
       "<style>\n",
       "    /* Turns off some styling */\n",
       "    progress {\n",
       "        /* gets rid of default border in Firefox and Opera. */\n",
       "        border: none;\n",
       "        /* Needs to be in here for Safari polyfill so background images work as expected. */\n",
       "        background-size: auto;\n",
       "    }\n",
       "    .progress-bar-interrupted, .progress-bar-interrupted::-webkit-progress-bar {\n",
       "        background: #F44336;\n",
       "    }\n",
       "</style>\n"
      ],
      "text/plain": [
       "<IPython.core.display.HTML object>"
      ]
     },
     "metadata": {},
     "output_type": "display_data"
    },
    {
     "data": {
      "text/html": [
       "\n",
       "    <div>\n",
       "      <progress value='38000' class='' max='38000' style='width:300px; height:20px; vertical-align: middle;'></progress>\n",
       "      100.00% [38000/38000 00:12<00:00 Sampling 2 chains, 0 divergences]\n",
       "    </div>\n",
       "    "
      ],
      "text/plain": [
       "<IPython.core.display.HTML object>"
      ]
     },
     "metadata": {},
     "output_type": "display_data"
    },
    {
     "name": "stderr",
     "output_type": "stream",
     "text": [
      "Sampling 2 chains for 1_000 tune and 18_000 draw iterations (2_000 + 36_000 draws total) took 13 seconds.\n"
     ]
    }
   ],
   "source": [
    "with model:\n",
    "    trace = pm.sample(18000)\n",
    "    burned_trace = trace[1000:]"
   ]
  },
  {
   "cell_type": "code",
   "execution_count": 17,
   "id": "387c76e5-770b-44ec-97c1-e786eddeda71",
   "metadata": {},
   "outputs": [
    {
     "data": {
      "text/plain": [
       "(array([5.000e+00, 9.000e+00, 4.300e+01, 6.700e+01, 1.680e+02, 3.250e+02,\n",
       "        6.000e+02, 9.190e+02, 1.447e+03, 1.859e+03, 2.330e+03, 2.709e+03,\n",
       "        3.150e+03, 3.234e+03, 2.992e+03, 2.780e+03, 2.539e+03, 2.092e+03,\n",
       "        1.797e+03, 1.408e+03, 1.058e+03, 7.820e+02, 5.570e+02, 3.600e+02,\n",
       "        2.530e+02, 1.940e+02, 1.330e+02, 7.900e+01, 3.900e+01, 2.300e+01,\n",
       "        1.900e+01, 1.100e+01, 7.000e+00, 3.000e+00, 2.000e+00, 2.000e+00,\n",
       "        1.000e+00, 1.000e+00, 0.000e+00, 3.000e+00]),\n",
       " array([0.6570065 , 0.67103464, 0.68506279, 0.69909093, 0.71311907,\n",
       "        0.72714721, 0.74117535, 0.7552035 , 0.76923164, 0.78325978,\n",
       "        0.79728792, 0.81131606, 0.82534421, 0.83937235, 0.85340049,\n",
       "        0.86742863, 0.88145677, 0.89548492, 0.90951306, 0.9235412 ,\n",
       "        0.93756934, 0.95159748, 0.96562563, 0.97965377, 0.99368191,\n",
       "        1.00771005, 1.02173819, 1.03576633, 1.04979448, 1.06382262,\n",
       "        1.07785076, 1.0918789 , 1.10590704, 1.11993519, 1.13396333,\n",
       "        1.14799147, 1.16201961, 1.17604775, 1.1900759 , 1.20410404,\n",
       "        1.21813218]),\n",
       " <BarContainer object of 40 artists>)"
      ]
     },
     "execution_count": 17,
     "metadata": {},
     "output_type": "execute_result"
    },
    {
     "data": {
      "image/png": "[encoded data removed]",
      "text/plain": [
       "<Figure size 432x288 with 1 Axes>"
      ]
     },
     "metadata": {
      "needs_background": "light"
     },
     "output_type": "display_data"
    }
   ],
   "source": [
    "plt.hist(burned_trace[\"sigma\"], bins=40)"
   ]
  }
 ],
 "metadata": {
  "kernelspec": {
   "display_name": "Python 3",
   "language": "python",
   "name": "python3"
  },
  "language_info": {
   "codemirror_mode": {
    "name": "ipython",
    "version": 3
   },
   "file_extension": ".py",
   "mimetype": "text/x-python",
   "name": "python",
   "nbconvert_exporter": "python",
   "pygments_lexer": "ipython3",
   "version": "3.9.7"
  }
 },
 "nbformat": 4,
 "nbformat_minor": 5
}
