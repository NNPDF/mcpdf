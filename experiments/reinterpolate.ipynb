{
 "cells": [
  {
   "cell_type": "markdown",
   "id": "a9152132-c63b-4674-94d4-4d6882e05dcf",
   "metadata": {},
   "source": [
    "# Standardize $x$ grid\n",
    "\n",
    "Through reinterpolation.\n",
    "\n",
    "Details like the order of polynomials, and if they are polynomials in $x$ or $log(x)$ is just guessed.\n",
    "- default order: $4$\n",
    "- default variable: $log(x)$"
   ]
  },
  {
   "cell_type": "code",
   "execution_count": 1,
   "id": "bb2d676a-31bf-4211-9414-6eace34f6740",
   "metadata": {},
   "outputs": [],
   "source": [
    "import numpy as np\n",
    "\n",
    "from mcpdf.nnpdf import theory"
   ]
  },
  {
   "cell_type": "code",
   "execution_count": 2,
   "id": "815445e6-20d2-43af-b9e7-3b0ec704a9a7",
   "metadata": {},
   "outputs": [
    {
     "name": "stdout",
     "output_type": "stream",
     "text": [
      "\n",
      "-- Reading COMMONDATA for Dataset: HERACOMBNCEM\n",
      "nData: 159 nSys: 170\n",
      "-- COMMONDATA Files for HERACOMBNCEM successfully read.\n",
      "\n",
      "\n",
      "-- Reading COMMONDATA for Dataset: D0ZRAP_40\n",
      "nData: 28 nSys: 1\n",
      "-- COMMONDATA Files for D0ZRAP_40 successfully read.\n",
      "\n",
      "(159, 9, 50) (28, 81, 35, 35)\n"
     ]
    }
   ],
   "source": [
    "th = theory.theory(dataset_inputs=[\"HERACOMBNCEM\", \"D0ZRAP_40\"])\n",
    "print(*[fk.elements[0].table.shape for fk in th])"
   ]
  },
  {
   "cell_type": "code",
   "execution_count": 3,
   "id": "898d45fe-e886-4fe0-a40b-31843ac8c049",
   "metadata": {},
   "outputs": [
    {
     "data": {
      "text/plain": [
       "[(159, 9, 40), (28, 81, 40, 40)]"
      ]
     },
     "execution_count": 3,
     "metadata": {},
     "output_type": "execute_result"
    }
   ],
   "source": [
    "newgrid = np.geomspace(1e-6, 1., 40)\n",
    "for fk in th:\n",
    "    fk.x_reshape(newgrid)\n",
    "\n",
    "list(map(lambda fk: fk.elements[0].table.shape, th))"
   ]
  }
 ],
 "metadata": {
  "kernelspec": {
   "display_name": "mcpdf-hkNaD0zI-py3.9",
   "language": "python",
   "name": "mcpdf-hknad0zi-py3.9"
  },
  "language_info": {
   "codemirror_mode": {
    "name": "ipython",
    "version": 3
   },
   "file_extension": ".py",
   "mimetype": "text/x-python",
   "name": "python",
   "nbconvert_exporter": "python",
   "pygments_lexer": "ipython3",
   "version": "3.9.7"
  }
 },
 "nbformat": 4,
 "nbformat_minor": 5
}
