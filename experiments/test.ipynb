{
 "cells": [
  {
   "cell_type": "code",
   "execution_count": 1,
   "id": "2975f7f0",
   "metadata": {},
   "outputs": [],
   "source": [
    "import matplotlib.pyplot as plt\n",
    "import numpy as np\n",
    "import seaborn as sns\n",
    "\n",
    "from mcpdf.nnpdf import data, defaults, theory\n",
    "\n",
    "%matplotlib inline"
   ]
  },
  {
   "cell_type": "code",
   "execution_count": 2,
   "id": "ea482711",
   "metadata": {},
   "outputs": [],
   "source": [
    "# datasets\n",
    "datasets_list = [\n",
    "    {'dataset': 'HERACOMBNCEM', 'frac': 0.75}, \n",
    "    {'dataset': 'HERACOMBNCEP460', 'frac': 0.75}, \n",
    "    {'dataset': 'HERACOMBNCEP575', 'frac': 0.75}, \n",
    "    {'dataset': 'HERACOMBNCEP820', 'frac': 0.75}, \n",
    "    {'dataset': 'HERACOMBNCEP920', 'frac': 0.75}, \n",
    "    {'dataset': 'HERACOMBCCEM', 'frac': 0.75}, \n",
    "    {'dataset': 'HERACOMBCCEP', 'frac': 0.75},\n",
    "    {'dataset': 'CHORUSNUPb_dw_ite', 'frac': 0.75}, \n",
    "    {'dataset': 'CHORUSNBPb_dw_ite', 'frac': 0.75}, \n",
    "    {'dataset': 'NTVNUDMNFe_dw_ite', 'frac': 0.75}, \n",
    "    {'dataset': 'NTVNBDMNFe_dw_ite', 'frac': 0.75}]\n",
    "\n",
    "ndatasets = len(datasets_list)\n",
    "\n",
    "# load data and covmat for all the dataset\n",
    "y = data.values(fit=defaults.BASELINE_PDF, dataset_inputs=datasets_list)\n",
    "cov = data.covmat(fit=defaults.BASELINE_PDF, dataset_inputs=datasets_list)"
   ]
  },
  {
   "cell_type": "code",
   "execution_count": 3,
   "id": "45435f05",
   "metadata": {},
   "outputs": [
    {
     "data": {
      "text/plain": [
       "(2053,)"
      ]
     },
     "execution_count": 3,
     "metadata": {},
     "output_type": "execute_result"
    }
   ],
   "source": [
    "y.shape"
   ]
  },
  {
   "cell_type": "code",
   "execution_count": 4,
   "id": "f21821c7",
   "metadata": {},
   "outputs": [
    {
     "data": {
      "text/plain": [
       "(2053, 2053)"
      ]
     },
     "execution_count": 4,
     "metadata": {},
     "output_type": "execute_result"
    }
   ],
   "source": [
    "cov.shape"
   ]
  },
  {
   "cell_type": "code",
   "execution_count": 5,
   "id": "69745980",
   "metadata": {},
   "outputs": [
    {
     "name": "stdout",
     "output_type": "stream",
     "text": [
      "\n",
      "-- Reading COMMONDATA for Dataset: CHORUSNUPb_dw_ite\n",
      "nData: 607 nSys: 1014\n",
      "-- COMMONDATA Files for CHORUSNUPb_dw_ite successfully read.\n",
      "\n",
      "\n",
      "-- Reading COMMONDATA for Dataset: CHORUSNBPb_dw_ite\n",
      "nData: 607 nSys: 114\n",
      "-- COMMONDATA Files for CHORUSNBPb_dw_ite successfully read.\n",
      "\n",
      "\n",
      "-- Reading COMMONDATA for Dataset: NTVNUDMNFe_dw_ite\n",
      "nData: 45 nSys: 1003\n",
      "-- COMMONDATA Files for NTVNUDMNFe_dw_ite successfully read.\n",
      "\n",
      "\n",
      "-- Reading COMMONDATA for Dataset: NTVNBDMNFe_dw_ite\n",
      "nData: 45 nSys: 103\n",
      "-- COMMONDATA Files for NTVNBDMNFe_dw_ite successfully read.\n",
      "\n",
      "\n",
      "-- Reading COMMONDATA for Dataset: HERACOMBNCEM\n",
      "nData: 159 nSys: 170\n",
      "-- COMMONDATA Files for HERACOMBNCEM successfully read.\n",
      "\n",
      "\n",
      "-- Reading COMMONDATA for Dataset: HERACOMBNCEP460\n",
      "nData: 209 nSys: 170\n",
      "-- COMMONDATA Files for HERACOMBNCEP460 successfully read.\n",
      "\n",
      "\n",
      "-- Reading COMMONDATA for Dataset: HERACOMBNCEP575\n",
      "nData: 260 nSys: 170\n",
      "-- COMMONDATA Files for HERACOMBNCEP575 successfully read.\n",
      "\n",
      "\n",
      "-- Reading COMMONDATA for Dataset: HERACOMBNCEP820\n",
      "nData: 112 nSys: 170\n",
      "-- COMMONDATA Files for HERACOMBNCEP820 successfully read.\n",
      "\n",
      "\n",
      "-- Reading COMMONDATA for Dataset: HERACOMBNCEP920\n",
      "nData: 485 nSys: 170\n",
      "-- COMMONDATA Files for HERACOMBNCEP920 successfully read.\n",
      "\n",
      "\n",
      "-- Reading COMMONDATA for Dataset: HERACOMBCCEM\n",
      "nData: 42 nSys: 170\n",
      "-- COMMONDATA Files for HERACOMBCCEM successfully read.\n",
      "\n",
      "\n",
      "-- Reading COMMONDATA for Dataset: HERACOMBCCEP\n",
      "nData: 39 nSys: 170\n",
      "-- COMMONDATA Files for HERACOMBCCEP successfully read.\n",
      "\n"
     ]
    },
    {
     "data": {
      "text/plain": [
       "(2053, 9, 50)"
      ]
     },
     "execution_count": 5,
     "metadata": {},
     "output_type": "execute_result"
    }
   ],
   "source": [
    "# load FK tables\n",
    "fks = theory.theory(dataset_inputs=[ds['dataset'] for ds in datasets_list])\n",
    "fk_bare = np.concatenate([fk.elements[0].table for fk in fks], axis=0)\n",
    "fk_bare.shape"
   ]
  },
  {
   "cell_type": "code",
   "execution_count": 6,
   "id": "ca33cde9",
   "metadata": {},
   "outputs": [
    {
     "data": {
      "text/plain": [
       "(2053, 450)"
      ]
     },
     "execution_count": 6,
     "metadata": {},
     "output_type": "execute_result"
    }
   ],
   "source": [
    "# reshape FK table as a matrix\n",
    "ndata, nbasis, nx = fk_bare.shape\n",
    "fk = fk_bare.reshape(ndata,nbasis*nx)\n",
    "fk.shape"
   ]
  },
  {
   "cell_type": "code",
   "execution_count": 7,
   "id": "be179b38-52fc-4986-ac0b-f7a6eb10574c",
   "metadata": {},
   "outputs": [],
   "source": [
    "def distinfo(values):\n",
    "    print(f\"   max = {max(values)}\",\n",
    "          f\"   min = {min(values)}\",\n",
    "          f\"absmin = {min(abs(values))}\",\n",
    "          sep = \"\\n\")\n",
    "\n",
    "    sns.boxenplot(x=values, scale=\"exponential\")\n",
    "    plt.xscale(\"log\")"
   ]
  },
  {
   "cell_type": "code",
   "execution_count": 8,
   "id": "9c05135a",
   "metadata": {},
   "outputs": [
    {
     "name": "stdout",
     "output_type": "stream",
     "text": [
      "   max = 308.39648487355925\n",
      "   min = 1.8638700388327588e-06\n",
      "absmin = 1.8638700388327588e-06\n"
     ]
    },
    {
     "data": {
      "image/png": "[encoded data removed]",
      "text/plain": [
       "<Figure size 432x288 with 1 Axes>"
      ]
     },
     "metadata": {
      "needs_background": "light"
     },
     "output_type": "display_data"
    }
   ],
   "source": [
    "# diagonalize experimental covmat and check its eigenvalues\n",
    "l, u = np.linalg.eig(cov)\n",
    "distinfo(l)"
   ]
  },
  {
   "cell_type": "code",
   "execution_count": 9,
   "id": "be8a6443",
   "metadata": {},
   "outputs": [],
   "source": [
    "#inv_cov = u @ np.diag(1./l) @ u.T \n",
    "#inv_cov@cov"
   ]
  },
  {
   "cell_type": "code",
   "execution_count": 10,
   "id": "1c5e7247",
   "metadata": {},
   "outputs": [],
   "source": [
    "# compute inverse of the posterior covmat according to Eq.46\n",
    "v = u.T@fk\n",
    "posterior_cov_inverse = v.T @ np.diag(1./l) @ v"
   ]
  },
  {
   "cell_type": "code",
   "execution_count": 11,
   "id": "888bb234",
   "metadata": {},
   "outputs": [
    {
     "data": {
      "text/plain": [
       "(450, 450)"
      ]
     },
     "execution_count": 11,
     "metadata": {},
     "output_type": "execute_result"
    }
   ],
   "source": [
    "posterior_cov_inverse.shape"
   ]
  },
  {
   "cell_type": "code",
   "execution_count": 12,
   "id": "fbfa1e3d",
   "metadata": {},
   "outputs": [],
   "source": [
    "# add a gaussian prior proportional to regularize\n",
    "_, N = posterior_cov_inverse.shape\n",
    "posterior_cov_inverse_prior = posterior_cov_inverse + 0.001*np.identity(N)"
   ]
  },
  {
   "cell_type": "code",
   "execution_count": 13,
   "id": "a488fb68",
   "metadata": {},
   "outputs": [
    {
     "name": "stdout",
     "output_type": "stream",
     "text": [
      "   max = 290362387.0521207\n",
      "   min = -5.200987252054414e-09\n",
      "absmin = 6.259910166570457e-14\n"
     ]
    },
    {
     "data": {
      "image/png": "[encoded data removed]",
      "text/plain": [
       "<Figure size 432x288 with 1 Axes>"
      ]
     },
     "metadata": {
      "needs_background": "light"
     },
     "output_type": "display_data"
    }
   ],
   "source": [
    "# check eigenvalues without prior\n",
    "ll, uu = np.linalg.eig(posterior_cov_inverse)\n",
    "distinfo(np.real(ll))"
   ]
  },
  {
   "cell_type": "code",
   "execution_count": 14,
   "id": "cdc23081",
   "metadata": {},
   "outputs": [
    {
     "name": "stdout",
     "output_type": "stream",
     "text": [
      "   max = 290362387.05312204\n",
      "   min = 0.0009999923879911324\n",
      "absmin = 0.0009999923879911324\n"
     ]
    },
    {
     "data": {
      "image/png": "[encoded data removed]",
      "text/plain": [
       "<Figure size 432x288 with 1 Axes>"
      ]
     },
     "metadata": {
      "needs_background": "light"
     },
     "output_type": "display_data"
    }
   ],
   "source": [
    "# check eigenvalues with prior\n",
    "llp, uup = np.linalg.eig(posterior_cov_inverse_prior)\n",
    "llp = np.real(llp)\n",
    "uup = np.real(uup)\n",
    "distinfo(llp)"
   ]
  },
  {
   "cell_type": "code",
   "execution_count": 15,
   "id": "dff03497",
   "metadata": {},
   "outputs": [],
   "source": [
    "# posterior covmat\n",
    "cov_posterior = uup @ np.diag(1./llp) @ uup.T"
   ]
  },
  {
   "cell_type": "code",
   "execution_count": 16,
   "id": "3ee0b896",
   "metadata": {},
   "outputs": [
    {
     "data": {
      "image/png": "[encoded data removed]",
      "text/plain": [
       "<Figure size 1440x360 with 2 Axes>"
      ]
     },
     "metadata": {
      "needs_background": "light"
     },
     "output_type": "display_data"
    },
    {
     "data": {
      "image/png": "[encoded data removed]",
      "text/plain": [
       "<Figure size 1440x72 with 2 Axes>"
      ]
     },
     "metadata": {
      "needs_background": "light"
     },
     "output_type": "display_data"
    }
   ],
   "source": [
    "id_test = posterior_cov_inverse_prior @ cov_posterior\n",
    "plt.figure(figsize=(20,5))\n",
    "sns.heatmap(id_test, xticklabels=False, yticklabels=False)\n",
    "plt.figure(figsize=(20, 1))\n",
    "plt.title(\"Diagonal\")\n",
    "sns.heatmap(np.diag(id_test)[np.newaxis,:], xticklabels=False, yticklabels=False);"
   ]
  },
  {
   "cell_type": "code",
   "execution_count": 17,
   "id": "e3865f77",
   "metadata": {},
   "outputs": [],
   "source": [
    "# compute central value posterior, Eq. 47\n",
    "v1 = u.T@y\n",
    "w = uup.T@fk.T@ u\n",
    "cv_posterior = uup @ np.diag(1./llp) @ w @ np.diag(1./l) @ v1"
   ]
  },
  {
   "cell_type": "code",
   "execution_count": 18,
   "id": "7c4c4e42",
   "metadata": {},
   "outputs": [
    {
     "data": {
      "text/plain": [
       "(450,)"
      ]
     },
     "execution_count": 18,
     "metadata": {},
     "output_type": "execute_result"
    }
   ],
   "source": [
    "cv_posterior.shape"
   ]
  },
  {
   "cell_type": "code",
   "execution_count": 19,
   "id": "e8027c1c",
   "metadata": {},
   "outputs": [],
   "source": [
    "# draw samples\n",
    "samples=np.random.multivariate_normal(cv_posterior, cov_posterior, size=1000)"
   ]
  },
  {
   "cell_type": "code",
   "execution_count": 20,
   "id": "e87d25ff",
   "metadata": {},
   "outputs": [
    {
     "data": {
      "text/plain": [
       "(1000, 450)"
      ]
     },
     "execution_count": 20,
     "metadata": {},
     "output_type": "execute_result"
    }
   ],
   "source": [
    "samples.shape"
   ]
  },
  {
   "cell_type": "code",
   "execution_count": 21,
   "id": "ad7773e0",
   "metadata": {},
   "outputs": [],
   "source": [
    "f = np.array([samples[:,i*50:(i+1)*50] for i in range(0,9)])\n",
    "flavour_cv = f.mean(axis=1)\n",
    "flavour_std = f.std(axis=1)\n",
    "    \n",
    "flavour_labels=['Sigma','g','V','V3','V8','V15','T3','T8','T15']"
   ]
  },
  {
   "cell_type": "code",
   "execution_count": 22,
   "id": "bbfa1fd3",
   "metadata": {},
   "outputs": [],
   "source": [
    "x = np.array([\n",
    "2.9699999989970886e-05,\n",
    "4.1246302562114121e-05,\n",
    "5.7279854290892427e-05,\n",
    "7.9543107354176351e-05,\n",
    "1.1045380151089824e-04,\n",
    "1.5336544212678162e-04,\n",
    "2.1292711419771039e-04,\n",
    "2.9557946342023174e-04,\n",
    "4.1023635832702205e-04,\n",
    "5.6921788919482173e-04,\n",
    "7.8952001737071158e-04,\n",
    "1.0945283774603655e-03,\n",
    "1.5163052361650959e-03,\n",
    "2.0985919006607802e-03,\n",
    "2.9006588501226953e-03,\n",
    "4.0020755222241709e-03,\n",
    "5.5083182403814438e-03,\n",
    "7.5568314649709480e-03,\n",
    "1.0322652614357851e-02,\n",
    "1.4022011128953883e-02,\n",
    "1.8911583033933310e-02,\n",
    "2.5280751342878608e-02,\n",
    "3.3434951223099259e-02,\n",
    "4.3670479005884652e-02,\n",
    "5.6244653828324422e-02,\n",
    "7.1348265292604018e-02,\n",
    "8.9087633304453406e-02,\n",
    "1.0948053859041228e-01,\n",
    "1.3246538983220960e-01,\n",
    "1.5791909766096124e-01,\n",
    "1.8567792651252230e-01,\n",
    "2.1555676356233966e-01,\n",
    "2.4736436150447358e-01,\n",
    "2.8091396862547191e-01,\n",
    "3.1602987267868177e-01,\n",
    "3.5255081809432581e-01,\n",
    "3.9033126797342838e-01,\n",
    "4.2924130793198417e-01,\n",
    "4.6916577293070166e-01,\n",
    "5.1000298771219632e-01,\n",
    "5.5166336656838788e-01,\n",
    "5.9406801715516011e-01,\n",
    "6.3714742681882575e-01,\n",
    "6.8084026849030499e-01,\n",
    "7.2509233853930255e-01,\n",
    "7.6985562506376237e-01,\n",
    "8.1508749786096646e-01,\n",
    "8.6075000810050684e-01,\n",
    "9.0680928480266942e-01,\n",
    "9.5323501557082535e-01,\n",
    "])"
   ]
  },
  {
   "cell_type": "code",
   "execution_count": 23,
   "id": "ae6057a7",
   "metadata": {},
   "outputs": [
    {
     "data": {
      "text/plain": [
       "(50,)"
      ]
     },
     "execution_count": 23,
     "metadata": {},
     "output_type": "execute_result"
    }
   ],
   "source": [
    "x.shape"
   ]
  },
  {
   "cell_type": "code",
   "execution_count": 24,
   "id": "2f5d865a",
   "metadata": {},
   "outputs": [
    {
     "data": {
      "text/plain": [
       "<matplotlib.legend.Legend at 0x7fecb1851250>"
      ]
     },
     "execution_count": 24,
     "metadata": {},
     "output_type": "execute_result"
    },
    {
     "data": {
      "image/png": "[encoded data removed]",
      "text/plain": [
       "<Figure size 432x288 with 1 Axes>"
      ]
     },
     "metadata": {
      "needs_background": "light"
     },
     "output_type": "display_data"
    }
   ],
   "source": [
    "for i in range(0,9):\n",
    "    plt.fill_between(x, flavour_cv[i]-flavour_std[i], flavour_cv[i]+flavour_std[i], label=flavour_labels[i])\n",
    "plt.xscale('log')\n",
    "plt.legend()"
   ]
  }
 ],
 "metadata": {
  "kernelspec": {
   "display_name": "Python 3 (ipykernel)",
   "language": "python",
   "name": "python3"
  },
  "language_info": {
   "codemirror_mode": {
    "name": "ipython",
    "version": 3
   },
   "file_extension": ".py",
   "mimetype": "text/x-python",
   "name": "python",
   "nbconvert_exporter": "python",
   "pygments_lexer": "ipython3",
   "version": "3.10.5"
  }
 },
 "nbformat": 4,
 "nbformat_minor": 5
}
