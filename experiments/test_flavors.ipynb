{
 "cells": [
  {
   "cell_type": "code",
   "execution_count": 1,
   "id": "47c2933a",
   "metadata": {},
   "outputs": [],
   "source": [
    "import matplotlib.pyplot as plt\n",
    "import numpy as np\n",
    "import seaborn as sns\n",
    "\n",
    "from mcpdf.nnpdf import data, defaults, theory\n",
    "\n",
    "%matplotlib inline"
   ]
  },
  {
   "cell_type": "code",
   "execution_count": 2,
   "id": "006d4bc8",
   "metadata": {},
   "outputs": [],
   "source": [
    "# datasets\n",
    "\n",
    "datasets_list = [\n",
    "    {'dataset': 'NMCPD_dw_ite', 'frac': 0.75},\n",
    "    {'dataset': 'NMC', 'frac': 0.75},\n",
    "    {'dataset': 'SLACP_dwsh', 'frac': 0.75},\n",
    "    {'dataset': 'SLACD_dw_ite', 'frac': 0.75},\n",
    "    {'dataset': 'BCDMSP_dwsh', 'frac': 0.75},\n",
    "    {'dataset': 'BCDMSD_dw_ite', 'frac': 0.75},\n",
    "    {'dataset': 'CHORUSNUPb_dw_ite', 'frac': 0.75},\n",
    "    {'dataset': 'CHORUSNBPb_dw_ite', 'frac': 0.75},\n",
    "    {'dataset': 'NTVNUDMNFe_dw_ite', 'frac': 0.75},\n",
    "    {'dataset': 'NTVNBDMNFe_dw_ite', 'frac': 0.75},\n",
    "    {'dataset': 'HERACOMBNCEM', 'frac': 0.75},\n",
    "    {'dataset': 'HERACOMBNCEP460', 'frac': 0.75},\n",
    "    {'dataset': 'HERACOMBNCEP575', 'frac': 0.75},\n",
    "    {'dataset': 'HERACOMBNCEP820', 'frac': 0.75},\n",
    "    {'dataset': 'HERACOMBNCEP920', 'frac': 0.75},\n",
    "    {'dataset': 'HERACOMBCCEM', 'frac': 0.75},\n",
    "    {'dataset': 'HERACOMBCCEP', 'frac': 0.75},\n",
    "    {'dataset': 'HERACOMB_SIGMARED_B', 'frac': 0.75},\n",
    "    {'dataset': 'HERACOMB_SIGMARED_C', 'frac': 0.75}\n",
    "]\n",
    "\n",
    "ndatasets = len(datasets_list)\n",
    "\n",
    "# load data and covmat for all the dataset\n",
    "y = data.values(fit=defaults.BASELINE_PDF, dataset_inputs=datasets_list)\n",
    "cov = data.covmat(fit=defaults.BASELINE_PDF, dataset_inputs=datasets_list)"
   ]
  },
  {
   "cell_type": "code",
   "execution_count": 3,
   "id": "c6556f04",
   "metadata": {},
   "outputs": [
    {
     "name": "stdout",
     "output_type": "stream",
     "text": [
      "\n",
      "-- Reading COMMONDATA for Dataset: NMCPD_dw_ite\n",
      "nData: 260 nSys: 105\n",
      "-- COMMONDATA Files for NMCPD_dw_ite successfully read.\n",
      "\n",
      "\n",
      "-- Reading COMMONDATA for Dataset: NMC\n",
      "nData: 292 nSys: 16\n",
      "-- COMMONDATA Files for NMC successfully read.\n",
      "\n",
      "\n",
      "-- Reading COMMONDATA for Dataset: SLACP_dwsh\n",
      "nData: 211 nSys: 3\n",
      "-- COMMONDATA Files for SLACP_dwsh successfully read.\n",
      "\n",
      "\n",
      "-- Reading COMMONDATA for Dataset: SLACD_dw_ite\n",
      "nData: 211 nSys: 103\n",
      "-- COMMONDATA Files for SLACD_dw_ite successfully read.\n",
      "\n",
      "\n",
      "-- Reading COMMONDATA for Dataset: BCDMSP_dwsh\n",
      "nData: 351 nSys: 11\n",
      "-- COMMONDATA Files for BCDMSP_dwsh successfully read.\n",
      "\n",
      "\n",
      "-- Reading COMMONDATA for Dataset: BCDMSD_dw_ite\n",
      "nData: 254 nSys: 108\n",
      "-- COMMONDATA Files for BCDMSD_dw_ite successfully read.\n",
      "\n",
      "\n",
      "-- Reading COMMONDATA for Dataset: CHORUSNUPb_dw_ite\n",
      "nData: 607 nSys: 1014\n",
      "-- COMMONDATA Files for CHORUSNUPb_dw_ite successfully read.\n",
      "\n",
      "\n",
      "-- Reading COMMONDATA for Dataset: CHORUSNBPb_dw_ite\n",
      "nData: 607 nSys: 114\n",
      "-- COMMONDATA Files for CHORUSNBPb_dw_ite successfully read.\n",
      "\n",
      "\n",
      "-- Reading COMMONDATA for Dataset: NTVNUDMNFe_dw_ite\n",
      "nData: 45 nSys: 1003\n",
      "-- COMMONDATA Files for NTVNUDMNFe_dw_ite successfully read.\n",
      "\n",
      "\n",
      "-- Reading COMMONDATA for Dataset: NTVNBDMNFe_dw_ite\n",
      "nData: 45 nSys: 103\n",
      "-- COMMONDATA Files for NTVNBDMNFe_dw_ite successfully read.\n",
      "\n",
      "\n",
      "-- Reading COMMONDATA for Dataset: HERACOMBNCEM\n",
      "nData: 159 nSys: 170\n",
      "-- COMMONDATA Files for HERACOMBNCEM successfully read.\n",
      "\n",
      "\n",
      "-- Reading COMMONDATA for Dataset: HERACOMBNCEP460\n",
      "nData: 209 nSys: 170\n",
      "-- COMMONDATA Files for HERACOMBNCEP460 successfully read.\n",
      "\n",
      "\n",
      "-- Reading COMMONDATA for Dataset: HERACOMBNCEP575\n",
      "nData: 260 nSys: 170\n",
      "-- COMMONDATA Files for HERACOMBNCEP575 successfully read.\n",
      "\n",
      "\n",
      "-- Reading COMMONDATA for Dataset: HERACOMBNCEP820\n",
      "nData: 112 nSys: 170\n",
      "-- COMMONDATA Files for HERACOMBNCEP820 successfully read.\n",
      "\n",
      "\n",
      "-- Reading COMMONDATA for Dataset: HERACOMBNCEP920\n",
      "nData: 485 nSys: 170\n",
      "-- COMMONDATA Files for HERACOMBNCEP920 successfully read.\n",
      "\n",
      "\n",
      "-- Reading COMMONDATA for Dataset: HERACOMBCCEM\n",
      "nData: 42 nSys: 170\n",
      "-- COMMONDATA Files for HERACOMBCCEM successfully read.\n",
      "\n",
      "\n",
      "-- Reading COMMONDATA for Dataset: HERACOMBCCEP\n",
      "nData: 39 nSys: 170\n",
      "-- COMMONDATA Files for HERACOMBCCEP successfully read.\n",
      "\n",
      "\n",
      "-- Reading COMMONDATA for Dataset: HERACOMB_SIGMARED_C\n",
      "nData: 52 nSys: 167\n",
      "-- COMMONDATA Files for HERACOMB_SIGMARED_C successfully read.\n",
      "\n",
      "\n",
      "-- Reading COMMONDATA for Dataset: HERACOMB_SIGMARED_B\n",
      "nData: 27 nSys: 167\n",
      "-- COMMONDATA Files for HERACOMB_SIGMARED_B successfully read.\n",
      "\n"
     ]
    }
   ],
   "source": [
    "# load fk tables\n",
    "fks = theory.theory(dataset_inputs=[ds['dataset'] for ds in datasets_list])"
   ]
  },
  {
   "cell_type": "code",
   "execution_count": 4,
   "id": "565d999d",
   "metadata": {},
   "outputs": [],
   "source": [
    "# look at the flavors of loaded fk tables and build the corresponding boolean mask\n",
    "# assume some grid dimension for this\n",
    "\n",
    "# possible flavors appearing in the FK tables\n",
    "flavs = [0,1,2,3,4,5,6,7,8,9,10,11,12,13]\n",
    "nxgrid = 40\n",
    "mask_list=[]\n",
    "\n",
    "for fk in fks:\n",
    "    mask = [flav in fk.elements[0].flavors for flav in flavs for k in range(0,nxgrid)]\n",
    "    mask_list.append(mask)"
   ]
  },
  {
   "cell_type": "code",
   "execution_count": 5,
   "id": "48cf7d79",
   "metadata": {},
   "outputs": [],
   "source": [
    "# now build the corresponding matrices\n",
    "\n",
    "matrix_list = []\n",
    "for m in mask_list:\n",
    "    matrix = []\n",
    "    for pos, i in enumerate(m):\n",
    "        if i:\n",
    "            tmp = np.zeros(len(flavs)*nxgrid)\n",
    "            tmp[pos]=1.\n",
    "            matrix.append(tmp)\n",
    "    \n",
    "    matrix_list.append(np.array(matrix))"
   ]
  },
  {
   "cell_type": "code",
   "execution_count": 6,
   "id": "cf6ad470",
   "metadata": {},
   "outputs": [],
   "source": [
    "### define a common xgrid\n",
    "newgrid = np.geomspace(1e-6, 1., nxgrid)\n",
    "for fk in fks:\n",
    "    fk.x_reshape(newgrid)"
   ]
  },
  {
   "cell_type": "code",
   "execution_count": 7,
   "id": "432255f1",
   "metadata": {},
   "outputs": [],
   "source": [
    "# reshape the fk tables to matrices \n",
    "fk_bare_list = []\n",
    "for fk in fks:\n",
    "    ndata, nbasis, nx = fk.elements[0].table.shape\n",
    "    fk_bare_list.append(np.reshape(fk.elements[0].table,(ndata,nbasis*nx)))"
   ]
  },
  {
   "cell_type": "code",
   "execution_count": 8,
   "id": "04666edf",
   "metadata": {},
   "outputs": [],
   "source": [
    "# multiply fk for the matrix\n",
    "reshaped_fk = []\n",
    "\n",
    "for fk_bare, matrix in zip(fk_bare_list, matrix_list):\n",
    "    reshaped_fk.append(fk_bare @ matrix)"
   ]
  },
  {
   "cell_type": "code",
   "execution_count": 9,
   "id": "81d8ce8d",
   "metadata": {},
   "outputs": [
    {
     "data": {
      "text/plain": [
       "(3089, 560)"
      ]
     },
     "execution_count": 9,
     "metadata": {},
     "output_type": "execute_result"
    }
   ],
   "source": [
    "fk_bare = np.concatenate([fk for fk in reshaped_fk], axis=0)\n",
    "fk_bare.shape"
   ]
  },
  {
   "cell_type": "code",
   "execution_count": 10,
   "id": "662dd624",
   "metadata": {},
   "outputs": [],
   "source": [
    "fk = fk_bare"
   ]
  },
  {
   "cell_type": "code",
   "execution_count": 11,
   "id": "b3710aa0",
   "metadata": {},
   "outputs": [],
   "source": [
    "def distinfo(values):\n",
    "    print(f\"   max = {max(values)}\",\n",
    "          f\"   min = {min(values)}\",\n",
    "          f\"absmin = {min(abs(values))}\",\n",
    "          sep = \"\\n\")\n",
    "\n",
    "    sns.boxenplot(x=values, scale=\"exponential\")\n",
    "    plt.xscale(\"log\")"
   ]
  },
  {
   "cell_type": "code",
   "execution_count": 12,
   "id": "974e547c",
   "metadata": {},
   "outputs": [
    {
     "name": "stdout",
     "output_type": "stream",
     "text": [
      "   max = 308.3964848735588\n",
      "   min = 1.838395290266506e-07\n",
      "absmin = 1.838395290266506e-07\n"
     ]
    },
    {
     "data": {
      "image/png": "[encoded data removed]",
      "text/plain": [
       "<Figure size 432x288 with 1 Axes>"
      ]
     },
     "metadata": {
      "needs_background": "light"
     },
     "output_type": "display_data"
    }
   ],
   "source": [
    "# diagonalize experimental covmat and check its eigenvalues\n",
    "l, u = np.linalg.eig(cov)\n",
    "distinfo(l)"
   ]
  },
  {
   "cell_type": "code",
   "execution_count": 13,
   "id": "f22a9e41",
   "metadata": {},
   "outputs": [],
   "source": [
    "# compute inverse of the posterior covmat according to Eq.46\n",
    "v = u.T@fk\n",
    "posterior_cov_inverse = v.T @ np.diag(1./l) @ v"
   ]
  },
  {
   "cell_type": "code",
   "execution_count": 14,
   "id": "0a23735a",
   "metadata": {},
   "outputs": [
    {
     "data": {
      "text/plain": [
       "(560, 560)"
      ]
     },
     "execution_count": 14,
     "metadata": {},
     "output_type": "execute_result"
    }
   ],
   "source": [
    "posterior_cov_inverse.shape"
   ]
  },
  {
   "cell_type": "code",
   "execution_count": 15,
   "id": "9a80c638",
   "metadata": {},
   "outputs": [],
   "source": [
    "# add a gaussian prior proportional to the identity to regularize\n",
    "_, N = posterior_cov_inverse.shape\n",
    "posterior_cov_inverse_prior = posterior_cov_inverse + 0.0001*np.identity(N)"
   ]
  },
  {
   "cell_type": "code",
   "execution_count": 16,
   "id": "9fd75725",
   "metadata": {},
   "outputs": [
    {
     "name": "stdout",
     "output_type": "stream",
     "text": [
      "   max = 214000.03488934276\n",
      "   min = -4.760300157530312e-13\n",
      "absmin = 0.0\n"
     ]
    },
    {
     "data": {
      "image/png": "[encoded data removed]",
      "text/plain": [
       "<Figure size 432x288 with 1 Axes>"
      ]
     },
     "metadata": {
      "needs_background": "light"
     },
     "output_type": "display_data"
    }
   ],
   "source": [
    "# check eigenvalues without prior\n",
    "ll, uu = np.linalg.eig(posterior_cov_inverse)\n",
    "distinfo(np.real(ll))"
   ]
  },
  {
   "cell_type": "code",
   "execution_count": 17,
   "id": "9754b78c",
   "metadata": {},
   "outputs": [
    {
     "name": "stdout",
     "output_type": "stream",
     "text": [
      "   max = 214000.03498934244\n",
      "   min = 9.999999941440967e-05\n",
      "absmin = 9.999999941440967e-05\n"
     ]
    },
    {
     "data": {
      "image/png": "[encoded data removed]",
      "text/plain": [
       "<Figure size 432x288 with 1 Axes>"
      ]
     },
     "metadata": {
      "needs_background": "light"
     },
     "output_type": "display_data"
    }
   ],
   "source": [
    "# check eigenvalues with prior\n",
    "llp, uup = np.linalg.eig(posterior_cov_inverse_prior)\n",
    "llp = np.real(llp)\n",
    "uup = np.real(uup)\n",
    "distinfo(llp)"
   ]
  },
  {
   "cell_type": "code",
   "execution_count": 18,
   "id": "a3a480f7",
   "metadata": {},
   "outputs": [],
   "source": [
    "# posterior covmat\n",
    "cov_posterior = uup @ np.diag(1./llp) @ uup.T"
   ]
  },
  {
   "cell_type": "code",
   "execution_count": 19,
   "id": "d52e92e1",
   "metadata": {},
   "outputs": [
    {
     "data": {
      "image/png": "[encoded data removed]",
      "text/plain": [
       "<Figure size 1440x360 with 2 Axes>"
      ]
     },
     "metadata": {
      "needs_background": "light"
     },
     "output_type": "display_data"
    },
    {
     "data": {
      "image/png": "[encoded data removed]",
      "text/plain": [
       "<Figure size 1440x72 with 2 Axes>"
      ]
     },
     "metadata": {
      "needs_background": "light"
     },
     "output_type": "display_data"
    }
   ],
   "source": [
    "id_test = posterior_cov_inverse_prior @ cov_posterior\n",
    "plt.figure(figsize=(20,5))\n",
    "sns.heatmap(id_test, xticklabels=False, yticklabels=False)\n",
    "plt.figure(figsize=(20, 1))\n",
    "plt.title(\"Diagonal\")\n",
    "sns.heatmap(np.diag(id_test)[np.newaxis,:], xticklabels=False, yticklabels=False);"
   ]
  },
  {
   "cell_type": "code",
   "execution_count": 20,
   "id": "34c00dc6",
   "metadata": {},
   "outputs": [],
   "source": [
    "# compute central value posterior, Eq. 47\n",
    "v1 = u.T@y\n",
    "w = uup.T@fk.T@ u\n",
    "cv_posterior = uup @ np.diag(1./llp) @ w @ np.diag(1./l) @ v1"
   ]
  },
  {
   "cell_type": "code",
   "execution_count": 21,
   "id": "86a91aed",
   "metadata": {},
   "outputs": [
    {
     "data": {
      "text/plain": [
       "(560,)"
      ]
     },
     "execution_count": 21,
     "metadata": {},
     "output_type": "execute_result"
    }
   ],
   "source": [
    "cv_posterior.shape"
   ]
  },
  {
   "cell_type": "code",
   "execution_count": 22,
   "id": "202c1e40",
   "metadata": {},
   "outputs": [],
   "source": [
    "# draw samples\n",
    "samples=np.random.multivariate_normal(cv_posterior, cov_posterior, size=1000)"
   ]
  },
  {
   "cell_type": "code",
   "execution_count": 23,
   "id": "531d86f7",
   "metadata": {},
   "outputs": [
    {
     "data": {
      "text/plain": [
       "(1000, 560)"
      ]
     },
     "execution_count": 23,
     "metadata": {},
     "output_type": "execute_result"
    }
   ],
   "source": [
    "samples.shape"
   ]
  },
  {
   "cell_type": "code",
   "execution_count": 24,
   "id": "1b628a96",
   "metadata": {},
   "outputs": [],
   "source": [
    "f = np.array([samples[:,i*nxgrid:(i+1)*nxgrid] for i in range(0,len(flavs))])\n",
    "flavour_cv = f.mean(axis=1)\n",
    "flavour_std = f.std(axis=1)\n",
    "    \n",
    "flavour_labels=np.array(['photon','Sigma','g','V','V3','V8','V15','V24','V35','T3','T8','T15','T24','T35'])"
   ]
  },
  {
   "cell_type": "code",
   "execution_count": 25,
   "id": "6d8553e8",
   "metadata": {},
   "outputs": [
    {
     "data": {
      "text/plain": [
       "<matplotlib.legend.Legend at 0x7f45a169d6d0>"
      ]
     },
     "execution_count": 25,
     "metadata": {},
     "output_type": "execute_result"
    },
    {
     "data": {
      "image/png": "[encoded data removed]",
      "text/plain": [
       "<Figure size 1080x432 with 1 Axes>"
      ]
     },
     "metadata": {
      "needs_background": "light"
     },
     "output_type": "display_data"
    }
   ],
   "source": [
    "flavs_to_plots = [1,2]\n",
    "plot_mask = np.array([flav in flavs_to_plots for flav in flavs])\n",
    "\n",
    "f = plt.figure()\n",
    "f.set_figwidth(15)\n",
    "f.set_figheight(6)\n",
    "\n",
    "for i in range(0,len(flavs_to_plots)):\n",
    "    plt.scatter(newgrid,flavour_cv[plot_mask][i],c='black',s=4)\n",
    "    plt.errorbar(newgrid,flavour_cv[plot_mask][i],yerr=[flavour_std[plot_mask][i],flavour_std[plot_mask][i]],linestyle='None')\n",
    "    plt.fill_between(newgrid, flavour_cv[plot_mask][i]-flavour_std[plot_mask][i], \n",
    "                     flavour_cv[plot_mask][i]+flavour_std[plot_mask][i], label=flavour_labels[plot_mask][i],alpha=0.5)\n",
    "plt.xscale('linear')\n",
    "plt.ylim(-20,20)\n",
    "plt.legend()"
   ]
  },
  {
   "cell_type": "code",
   "execution_count": null,
   "id": "09d1ff16",
   "metadata": {},
   "outputs": [],
   "source": []
  }
 ],
 "metadata": {
  "kernelspec": {
   "display_name": "Python 3 (ipykernel)",
   "language": "python",
   "name": "python3"
  },
  "language_info": {
   "codemirror_mode": {
    "name": "ipython",
    "version": 3
   },
   "file_extension": ".py",
   "mimetype": "text/x-python",
   "name": "python",
   "nbconvert_exporter": "python",
   "pygments_lexer": "ipython3",
   "version": "3.9.12"
  }
 },
 "nbformat": 4,
 "nbformat_minor": 5
}
